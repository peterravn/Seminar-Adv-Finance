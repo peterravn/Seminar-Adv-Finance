{
 "cells": [
  {
   "cell_type": "code",
   "execution_count": 31,
   "metadata": {},
   "outputs": [],
   "source": [
    "# Load Packages\n",
    "import pandas as pd\n",
    "import numpy as np\n",
    "import matplotlib.pyplot as plt\n",
    "import scipy.optimize as sci_optim\n",
    "from sklearn.decomposition import PCA\n",
    "from functions import *\n"
   ]
  },
  {
   "cell_type": "code",
   "execution_count": 32,
   "metadata": {},
   "outputs": [],
   "source": [
    "# Load data\n",
    "\n",
    "data = pd.read_csv('Data/non_nan_data.csv')\n",
    "data = data.drop(['sun_mean', 'wind_mean', 'temp_mean', 'DK1_spot'], axis=1)\n",
    "\n",
    "cols_to_lag = [col for col in data.columns if col.startswith('sun_') or col.startswith('temp_') or col.startswith('wind_')]\n",
    "data[cols_to_lag] = data[cols_to_lag].shift(1)\n",
    "\n",
    "data = data.dropna()\n",
    "\n",
    "# Split data\n",
    "data_train = data[(data['DATE'] >= '2014-01-01') & (data['DATE'] < '2023-01-01')].drop(['DATE'], axis=1).to_numpy()\n",
    "data_test = data[data['DATE'] >= '2023-01-01'].drop(['DATE'], axis=1).to_numpy()\n",
    "\n",
    "# To only use weather data one hour before the price, we lag weather data one hour\n",
    "y_train = data_train[:, 0].reshape(-1, 1)\n",
    "y_test = data_test[:, 0].reshape(-1, 1)\n",
    "\n",
    "weather_train = data_train[:, 1:]\n",
    "weather_test = data_test[:, 1:]\n",
    "\n",
    "hour_dummies_train = sdummy(len(data_train), 24)\n",
    "hour_dummies_test = sdummy(len(data_test), 24)\n",
    "\n",
    "all_train = np.concatenate((weather_train, hour_dummies_train), axis=1)\n",
    "all_test = np.concatenate((weather_test, hour_dummies_test), axis=1)"
   ]
  },
  {
   "cell_type": "code",
   "execution_count": null,
   "metadata": {},
   "outputs": [],
   "source": []
  },
  {
   "cell_type": "code",
   "execution_count": 33,
   "metadata": {},
   "outputs": [],
   "source": [
    "def perform_pca_and_residual_analysis(X, n_components):\n",
    "    # Perform PCA\n",
    "    pca = PCA(n_components=n_components)\n",
    "    X_pca = pca.fit_transform(X)\n",
    "    \n",
    "    # Reconstruct the original dataset from the PCA-transformed data\n",
    "    X_reconstructed = pca.inverse_transform(X_pca)\n",
    "    \n",
    "    # Calculate the residuals (difference between original and reconstructed data)\n",
    "    residuals = X - X_reconstructed\n",
    "    residual_error = np.linalg.norm(residuals, axis=1)  # Calculate the error norm for each sample\n",
    "    \n",
    "    # Return the residual error and the first n principal components\n",
    "    return X_pca, residual_error"
   ]
  },
  {
   "cell_type": "code",
   "execution_count": 34,
   "metadata": {},
   "outputs": [
    {
     "name": "stderr",
     "output_type": "stream",
     "text": [
      "/Users/emilbisiach/miniconda3/envs/dev_env/lib/python3.9/site-packages/sklearn/decomposition/_pca.py:611: RuntimeWarning: invalid value encountered in matmul\n",
      "  C = X.T @ X\n"
     ]
    }
   ],
   "source": [
    "X_pca, residual_error = perform_pca_and_residual_analysis(weather_train, 100)\n",
    "\n"
   ]
  },
  {
   "cell_type": "code",
   "execution_count": 36,
   "metadata": {},
   "outputs": [
    {
     "data": {
      "text/plain": [
       "(78887, 100)"
      ]
     },
     "execution_count": 36,
     "metadata": {},
     "output_type": "execute_result"
    }
   ],
   "source": [
    "X_pca.shape"
   ]
  }
 ],
 "metadata": {
  "kernelspec": {
   "display_name": "dev_env",
   "language": "python",
   "name": "python3"
  },
  "language_info": {
   "codemirror_mode": {
    "name": "ipython",
    "version": 3
   },
   "file_extension": ".py",
   "mimetype": "text/x-python",
   "name": "python",
   "nbconvert_exporter": "python",
   "pygments_lexer": "ipython3",
   "version": "3.9.18"
  }
 },
 "nbformat": 4,
 "nbformat_minor": 2
}
