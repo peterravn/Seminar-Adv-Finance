{
 "cells": [
  {
   "cell_type": "code",
   "execution_count": 45,
   "metadata": {},
   "outputs": [],
   "source": [
    "import numpy as np\n",
    "from scipy.stats import norm\n",
    "\n",
    "def newey_west_bandwidth(T):\n",
    "    \"\"\"\n",
    "    Calculate the Newey-West bandwidth for HAC variance estimation.\n",
    "    \n",
    "    Parameters:\n",
    "        T (int): Number of observations.\n",
    "    \n",
    "    Returns:\n",
    "        int: Optimal lag length.\n",
    "    \"\"\"\n",
    "    return int(np.floor(4 * (T / 100) ** (2 / 9)))\n",
    "\n",
    "def diebold_mariano_test(actual, forecast1, forecast2, loss=\"squared\", significance_level=0.05):\n",
    "    \"\"\"\n",
    "    Perform the Diebold-Mariano test for predictive accuracy.\n",
    "    \n",
    "    Parameters:\n",
    "        actual (array-like): Actual observed values.\n",
    "        forecast1 (array-like): Forecasted values from model 1.\n",
    "        forecast2 (array-like): Forecasted values from model 2.\n",
    "        loss (str): Loss function, either \"squared\" or \"absolute\".\n",
    "        significance_level (float): Significance level for the hypothesis test.\n",
    "    \n",
    "    Returns:\n",
    "        dict: Dictionary containing test statistic, p-value, and decision.\n",
    "    \"\"\"\n",
    "    # Ensure inputs are numpy arrays\n",
    "    actual, forecast1, forecast2 = np.array(actual), np.array(forecast1), np.array(forecast2)\n",
    "    \n",
    "    # Compute forecast errors\n",
    "    e1 = actual - forecast1\n",
    "    e2 = actual - forecast2\n",
    "    \n",
    "    # Compute loss differentials\n",
    "    if loss == \"squared\":\n",
    "        d = (e1 ** 2) - (e2 ** 2)\n",
    "    elif loss == \"absolute\":\n",
    "        d = np.abs(e1) - np.abs(e2)\n",
    "    else:\n",
    "        raise ValueError(\"Loss function must be 'squared' or 'absolute'\")\n",
    "    \n",
    "    # Mean of the loss differential\n",
    "    d_mean = np.mean(d)\n",
    "    \n",
    "    # Determine the Newey-West optimal lag\n",
    "    T = len(d)\n",
    "    optimal_lag = newey_west_bandwidth(T)\n",
    "    \n",
    "    # HAC variance estimation using Bartlett weights\n",
    "    gamma = [np.sum(d[:T - lag] * d[lag:]) / T for lag in range(optimal_lag + 1)]\n",
    "    hac_var = gamma[0] + 2 * sum((1 - lag / (optimal_lag + 1)) * gamma[lag] for lag in range(1, optimal_lag + 1))\n",
    "    \n",
    "    # Diebold-Mariano statistic\n",
    "    dm_stat = d_mean / np.sqrt(hac_var / T)\n",
    "    \n",
    "    # p-value\n",
    "    p_value = 2 * (1 - norm.cdf(np.abs(dm_stat)))  # Two-sided test\n",
    "    \n",
    "    # Decision\n",
    "    reject_null = p_value < significance_level\n",
    "    \n",
    "    return {\n",
    "        \"DM_statistic\": dm_stat,\n",
    "        \"p_value\": p_value,\n",
    "        \"optimal_lag\": optimal_lag,\n",
    "        \"reject_null\": reject_null,\n",
    "        \"decision\": \"Reject H0\" if reject_null else \"Fail to reject H0\"\n",
    "    }\n",
    "\n"
   ]
  },
  {
   "cell_type": "code",
   "execution_count": 48,
   "metadata": {},
   "outputs": [
    {
     "name": "stdout",
     "output_type": "stream",
     "text": [
      "Diebold-Mariano Test Results:\n",
      "DM Statistic: -0.8304\n",
      "P-Value: 0.4063\n",
      "Decision: Fail to reject H0\n"
     ]
    }
   ],
   "source": [
    "# Actual values and forecasts\n",
    "np.random.seed(1234)\n",
    "Horizon = 100\n",
    "actual = np.random.normal(0, 1, Horizon)\n",
    "forecast1 = np.random.normal(0, 1, Horizon)\n",
    "forecast2 = np.random.normal(0, 1, Horizon)\n",
    "\n",
    "# Perform Diebold-Mariano test\n",
    "result = diebold_mariano_test(actual, forecast1, forecast2, loss=\"squared\", significance_level=0.05)\n",
    "\n",
    "# Display results\n",
    "print(\"Diebold-Mariano Test Results:\")\n",
    "print(f\"DM Statistic: {result['DM_statistic']:.4f}\")\n",
    "print(f\"P-Value: {result['p_value']:.4f}\")\n",
    "print(f\"Decision: {result['decision']}\")\n"
   ]
  }
 ],
 "metadata": {
  "kernelspec": {
   "display_name": "base",
   "language": "python",
   "name": "python3"
  },
  "language_info": {
   "codemirror_mode": {
    "name": "ipython",
    "version": 3
   },
   "file_extension": ".py",
   "mimetype": "text/x-python",
   "name": "python",
   "nbconvert_exporter": "python",
   "pygments_lexer": "ipython3",
   "version": "3.9.16"
  }
 },
 "nbformat": 4,
 "nbformat_minor": 2
}
