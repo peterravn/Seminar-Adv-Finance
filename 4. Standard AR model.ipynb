{
 "cells": [
  {
   "cell_type": "code",
   "execution_count": 140,
   "metadata": {},
   "outputs": [
    {
     "name": "stdout",
     "output_type": "stream",
     "text": [
      "The autoreload extension is already loaded. To reload it, use:\n",
      "  %reload_ext autoreload\n"
     ]
    },
    {
     "data": {
      "text/plain": [
       "array([[237.330002,   0.      ,   0.      , ...,   5.1     ,   6.6     ,\n",
       "          2.1     ],\n",
       "       [235.830002,   0.      ,   0.      , ...,   5.1     ,   7.6     ,\n",
       "          3.      ],\n",
       "       [233.660004,   0.      ,   0.      , ...,   7.7     ,   8.7     ,\n",
       "          3.3     ],\n",
       "       ...,\n",
       "       [297.820007,   0.      ,   0.      , ...,   7.7     ,   6.      ,\n",
       "          7.1     ],\n",
       "       [261.040009,   0.      ,   0.      , ...,   8.8     ,   4.9     ,\n",
       "          7.2     ],\n",
       "       [195.839996,   0.      ,   0.      , ...,   9.3     ,   5.2     ,\n",
       "          6.6     ]])"
      ]
     },
     "execution_count": 140,
     "metadata": {},
     "output_type": "execute_result"
    }
   ],
   "source": [
    "%reset -f\n",
    "\n",
    "from pandasgui import show\n",
    "\n",
    "import pandas as pd\n",
    "import numpy as np\n",
    "import matplotlib.pyplot as plt\n",
    "from functions import *\n",
    "from sklearn.model_selection import train_test_split\n",
    "from statsmodels.stats.diagnostic import acorr_ljungbox\n",
    "\n",
    "%load_ext autoreload\n",
    "%autoreload 2\n",
    "\n",
    "# Load data\n",
    "data = pd.read_csv('Data/non_nan_data.csv')\n",
    "data = data.drop(['sun_mean', 'wind_mean', 'temp_mean'], axis=1)\n",
    "data = data.drop(['DK1_spot'], axis=1)\n",
    "\n",
    "# Split data when date < 2020-01-01 21:00:00\n",
    "data_train = data[data['DATE'] < '2020-01-01'].drop(['DATE'], axis=1).to_numpy()\n",
    "data_test = data[data['DATE'] >= '2020-01-01'].drop(['DATE'], axis=1).to_numpy()\n",
    "\n",
    "data_test"
   ]
  },
  {
   "cell_type": "code",
   "execution_count": 143,
   "metadata": {},
   "outputs": [
    {
     "name": "stderr",
     "output_type": "stream",
     "text": [
      "PandasGUI INFO — pandasgui.gui — Opening PandasGUI\n",
      "C:\\Users\\Peter\\AppData\\Local\\Temp\\ipykernel_10576\\3891989758.py:1: FutureWarning:\n",
      "\n",
      "Series.__getitem__ treating keys as positions is deprecated. In a future version, integer keys will always be treated as labels (consistent with DataFrame behavior). To access a value by position, use `ser.iloc[pos]`\n",
      "\n",
      "C:\\Users\\Peter\\AppData\\Local\\Temp\\ipykernel_10576\\3891989758.py:1: FutureWarning:\n",
      "\n",
      "Series.__getitem__ treating keys as positions is deprecated. In a future version, integer keys will always be treated as labels (consistent with DataFrame behavior). To access a value by position, use `ser.iloc[pos]`\n",
      "\n",
      "C:\\Users\\Peter\\AppData\\Local\\Temp\\ipykernel_10576\\3891989758.py:1: FutureWarning:\n",
      "\n",
      "Series.__getitem__ treating keys as positions is deprecated. In a future version, integer keys will always be treated as labels (consistent with DataFrame behavior). To access a value by position, use `ser.iloc[pos]`\n",
      "\n",
      "C:\\Users\\Peter\\AppData\\Local\\Temp\\ipykernel_10576\\3891989758.py:1: FutureWarning:\n",
      "\n",
      "Series.__getitem__ treating keys as positions is deprecated. In a future version, integer keys will always be treated as labels (consistent with DataFrame behavior). To access a value by position, use `ser.iloc[pos]`\n",
      "\n",
      "C:\\Users\\Peter\\AppData\\Local\\Temp\\ipykernel_10576\\3891989758.py:1: FutureWarning:\n",
      "\n",
      "Series.__getitem__ treating keys as positions is deprecated. In a future version, integer keys will always be treated as labels (consistent with DataFrame behavior). To access a value by position, use `ser.iloc[pos]`\n",
      "\n",
      "C:\\Users\\Peter\\AppData\\Local\\Temp\\ipykernel_10576\\3891989758.py:1: FutureWarning:\n",
      "\n",
      "Series.__getitem__ treating keys as positions is deprecated. In a future version, integer keys will always be treated as labels (consistent with DataFrame behavior). To access a value by position, use `ser.iloc[pos]`\n",
      "\n"
     ]
    },
    {
     "data": {
      "text/plain": [
       "<pandasgui.gui.PandasGui at 0x1f881a431f0>"
      ]
     },
     "execution_count": 143,
     "metadata": {},
     "output_type": "execute_result"
    }
   ],
   "source": [
    "show(data[data['DATE'] >= '2020-01-01'].drop(['DATE'], axis=1))"
   ]
  },
  {
   "cell_type": "markdown",
   "metadata": {},
   "source": [
    "## Baseline"
   ]
  },
  {
   "cell_type": "code",
   "execution_count": 149,
   "metadata": {},
   "outputs": [
    {
     "name": "stdout",
     "output_type": "stream",
     "text": [
      "SMAPE baseline: 18.333736337737868\n"
     ]
    }
   ],
   "source": [
    "p = 1\n",
    "\n",
    "y_train = data_train[:, 0].reshape(-1, 1)[1::]\n",
    "y_test = data_test[:, 0].reshape(-1, 1)[1::]\n",
    "\n",
    "weather_train = data_train[:, 1:-2][:-1, :]\n",
    "weather_test = data_test[:, 1:-2][:-1, :]\n",
    "\n",
    "hour_dummies_train = sdummy(len(data_train), 24)[:-1, :]\n",
    "hour_dummies_test = sdummy(len(data_test), 24)[:-1, :]\n",
    "\n",
    "all_train = np.concatenate((weather_train, hour_dummies_train), axis=1)\n",
    "all_test = np.concatenate((weather_test, hour_dummies_test), axis=1)\n",
    "\n",
    "\n",
    "con = 0\n",
    "tr = 0\n",
    "exog = 0\n",
    "# exog = weather\n",
    "# exog = hour_dummies_train\n",
    "# exog = all_train\n",
    "\n",
    "Beta, SEbeta, _, Pvalue, tratioBeta, res_baseline, _, _, aiccrit, hqccrit, siccrit = VARlsExog(y_train, p, con, tr, exog)\n",
    "\n",
    "# # Collect beta, SEbeta and tratioBeta in a single dataframe\n",
    "results = pd.DataFrame()\n",
    "results['Beta'] = Beta.reshape(-1, order='F')\n",
    "\n",
    "\n",
    "X_test = np.column_stack([lagmatrix(y_test, p)])\n",
    "\n",
    "y_pred = X_test @ Beta\n",
    "\n",
    "smape_baseline = smape(y_test[p::], y_pred[p::])\n",
    "\n",
    "print(f'SMAPE baseline: {smape_baseline}')"
   ]
  },
  {
   "cell_type": "markdown",
   "metadata": {},
   "source": [
    "## Baseline with 24 lags"
   ]
  },
  {
   "cell_type": "code",
   "execution_count": 150,
   "metadata": {},
   "outputs": [
    {
     "name": "stdout",
     "output_type": "stream",
     "text": [
      "SMAPE baseline: 19.13263847173096\n"
     ]
    }
   ],
   "source": [
    "p = 24\n",
    "\n",
    "y_train = data_train[:, 0].reshape(-1, 1)[1::]\n",
    "y_test = data_test[:, 0].reshape(-1, 1)[1::]\n",
    "\n",
    "weather_train = data_train[:, 1:-2][:-1, :]\n",
    "weather_test = data_test[:, 1:-2][:-1, :]\n",
    "\n",
    "hour_dummies_train = sdummy(len(data_train), 24)[:-1, :]\n",
    "hour_dummies_test = sdummy(len(data_test), 24)[:-1, :]\n",
    "\n",
    "all_train = np.concatenate((weather_train, hour_dummies_train), axis=1)\n",
    "all_test = np.concatenate((weather_test, hour_dummies_test), axis=1)\n",
    "\n",
    "\n",
    "con = 0\n",
    "tr = 0\n",
    "exog = 0\n",
    "# exog = weather\n",
    "# exog = hour_dummies_train\n",
    "# exog = all_train\n",
    "\n",
    "Beta, SEbeta, _, Pvalue, tratioBeta, res_baseline, _, _, aiccrit, hqccrit, siccrit = VARlsExog(y_train, p, con, tr, exog)\n",
    "\n",
    "# # Collect beta, SEbeta and tratioBeta in a single dataframe\n",
    "results = pd.DataFrame()\n",
    "results['Beta'] = Beta.reshape(-1, order='F')\n",
    "\n",
    "\n",
    "X_test = np.column_stack([lagmatrix(y_test, p)])\n",
    "\n",
    "y_pred = X_test @ Beta\n",
    "\n",
    "smape_baseline = smape(y_test[p::], y_pred[p::])\n",
    "\n",
    "print(f'SMAPE baseline: {smape_baseline}')"
   ]
  },
  {
   "cell_type": "markdown",
   "metadata": {},
   "source": [
    "## Extended baseline with weather data"
   ]
  },
  {
   "cell_type": "code",
   "execution_count": 148,
   "metadata": {},
   "outputs": [
    {
     "name": "stdout",
     "output_type": "stream",
     "text": [
      "SMAPE baseline extended: 18.523369269030294\n"
     ]
    }
   ],
   "source": [
    "p = 1\n",
    "\n",
    "y_train = data_train[:, 0].reshape(-1, 1)[1::]\n",
    "y_test = data_test[:, 0].reshape(-1, 1)[1::]\n",
    "\n",
    "weather_train = data_train[:, 1:-2][:-1, :]\n",
    "weather_test = data_test[:, 1:-2][:-1, :]\n",
    "\n",
    "hour_dummies_train = sdummy(len(data_train), 24)[:-1, :]\n",
    "hour_dummies_test = sdummy(len(data_test), 24)[:-1, :]\n",
    "\n",
    "all_train = np.concatenate((weather_train, hour_dummies_train), axis=1)\n",
    "all_test = np.concatenate((weather_test, hour_dummies_test), axis=1)\n",
    "\n",
    "\n",
    "con = 0\n",
    "tr = 0\n",
    "# exog = weather_train\n",
    "# exog = hour_dummies_train\n",
    "exog = all_train\n",
    "\n",
    "Beta, SEbeta, _, Pvalue, tratioBeta, _, _, _, aiccrit, hqccrit, siccrit = VARlsExog(y_train, p, con, tr, exog)\n",
    "\n",
    "# # Collect beta, SEbeta and tratioBeta in a single dataframe\n",
    "results = pd.DataFrame()\n",
    "results['Beta'] = Beta.reshape(-1, order='F')\n",
    "\n",
    "\n",
    "X_test = np.column_stack([lagmatrix(y_test, p), all_test])\n",
    "\n",
    "y_pred = X_test[p::, :] @ Beta\n",
    "\n",
    "smape_baseline_extended = smape(y_test[p::, :] , y_pred)\n",
    "\n",
    "print(f'SMAPE baseline extended: {smape_baseline_extended}')"
   ]
  },
  {
   "cell_type": "code",
   "execution_count": null,
   "metadata": {},
   "outputs": [],
   "source": []
  }
 ],
 "metadata": {
  "kernelspec": {
   "display_name": "base",
   "language": "python",
   "name": "python3"
  },
  "language_info": {
   "codemirror_mode": {
    "name": "ipython",
    "version": 3
   },
   "file_extension": ".py",
   "mimetype": "text/x-python",
   "name": "python",
   "nbconvert_exporter": "python",
   "pygments_lexer": "ipython3",
   "version": "3.9.19"
  }
 },
 "nbformat": 4,
 "nbformat_minor": 2
}
