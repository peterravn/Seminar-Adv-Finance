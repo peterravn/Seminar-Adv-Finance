{
 "cells": [
  {
   "cell_type": "code",
   "execution_count": 10,
   "metadata": {},
   "outputs": [
    {
     "name": "stdout",
     "output_type": "stream",
     "text": [
      "Hello world\n"
     ]
    }
   ],
   "source": [
    "import pandas as pd\n",
    "\n",
    "area = \"DK1\"\n",
    "\n",
    "# Load the provided CSV file\n",
    "file_path = f'Data/{area}spot.csv'\n",
    "\n",
    "# Load the CSV into a DataFrame\n",
    "spot_price = pd.read_csv(file_path, delimiter=';')\n",
    "\n",
    "spot_price\n",
    "\n",
    "print(\"Hello world again 2\")"
   ]
  }
 ],
 "metadata": {
  "kernelspec": {
   "display_name": "base",
   "language": "python",
   "name": "python3"
  },
  "language_info": {
   "codemirror_mode": {
    "name": "ipython",
    "version": 3
   },
   "file_extension": ".py",
   "mimetype": "text/x-python",
   "name": "python",
   "nbconvert_exporter": "python",
   "pygments_lexer": "ipython3",
   "version": "3.12.3"
  }
 },
 "nbformat": 4,
 "nbformat_minor": 2
}
