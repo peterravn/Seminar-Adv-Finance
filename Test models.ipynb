{
 "cells": [
  {
   "cell_type": "code",
   "execution_count": 1,
   "metadata": {},
   "outputs": [],
   "source": [
    "import pandas as pd\n",
    "import numpy as np\n",
    "import matplotlib.pyplot as plt\n",
    "from Functions import *\n",
    "\n",
    "# Load the data\n",
    "data = pd.read_csv('Data/merged_data.csv')\n",
    "\n",
    "max_missing_percentage = 20\n",
    "\n",
    "columns_to_drop = []\n",
    "\n",
    "for i in range(len(data.columns)):\n",
    "    missing_count = data.iloc[:, i].isnull().sum()\n",
    "    missing_percentage = missing_count / len(data) * 100\n",
    "    \n",
    "    # Add column to drop list if missing_percentage is greater than max_missing_percentage\n",
    "    if missing_percentage > max_missing_percentage:\n",
    "        columns_to_drop.append(data.columns[i])\n",
    "\n",
    "# Drop the columns after iterating\n",
    "data = data.drop(columns_to_drop, axis=1)\n",
    "\n",
    "#Calculate mean of all variables starting with \"sun\"\n",
    "sun_columns = data.filter(like='sun_')\n",
    "sun_mean = sun_columns.mean(axis=1)\n",
    "data['sun_mean'] = sun_mean\n",
    "data['sun_mean'] = data['sun_mean'].fillna(0)\n",
    "\n",
    "for column in data.columns:\n",
    "    # Check if the column starts with 'sun_' and is not 'sun_mean'\n",
    "    if column.startswith('sun_') and column != 'sun_mean':\n",
    "        for row in range(len(data)):\n",
    "            # Check if the value is NaN\n",
    "            if np.isnan(data.loc[row, column]):\n",
    "                # Replace NaN with the mean of the corresponding row\n",
    "                data.loc[row, column] = data['sun_mean'].loc[row]\n",
    "\n",
    "# Calculate mean of all variables starting with \"wind\"\n",
    "wind_columns = data.filter(like='wind_')\n",
    "wind_mean = wind_columns.mean(axis=1)\n",
    "data['wind_mean'] = wind_mean\n",
    "data['wind_mean'] = data['wind_mean'].fillna(0)\n",
    "\n",
    "for column in data.columns:\n",
    "    # Check if the column starts with 'wind_' and is not 'wind_mean'\n",
    "    if column.startswith('wind_') and column != 'wind_mean':\n",
    "        for row in range(len(data)):\n",
    "            # Check if the value is NaN\n",
    "            if np.isnan(data.loc[row, column]):\n",
    "                # Replace NaN with the mean of the corresponding row\n",
    "                data.loc[row, column] = data['wind_mean'].loc[row]\n",
    "\n",
    "area_to_drop = 'DK1_spot'\n",
    "\n",
    "# Drop DK1_spot and DATE\n",
    "data = data.drop([area_to_drop, 'DATE'], axis=1)\n",
    "\n",
    "# data = data.drop(['sun_mean', 'wind_mean'], axis=1)\n",
    "\n",
    "data_np = data.to_numpy()\n",
    "\n",
    "y = data_np[:, 0].reshape(-1, 1)\n",
    "weather = data_np[:, 1:-2]\n"
   ]
  },
  {
   "cell_type": "code",
   "execution_count": null,
   "metadata": {},
   "outputs": [],
   "source": [
    "# Save data\n",
    "data.to_csv('Data/non_nan_data.csv', index=False)"
   ]
  },
  {
   "cell_type": "markdown",
   "metadata": {},
   "source": [
    "Standard AR-model with exogenous variables"
   ]
  },
  {
   "cell_type": "code",
   "execution_count": 5,
   "metadata": {},
   "outputs": [
    {
     "name": "stdout",
     "output_type": "stream",
     "text": [
      "9.416509331212024 9.416570758821651 9.416711145121218\n"
     ]
    },
    {
     "data": {
      "text/html": [
       "<div>\n",
       "<style scoped>\n",
       "    .dataframe tbody tr th:only-of-type {\n",
       "        vertical-align: middle;\n",
       "    }\n",
       "\n",
       "    .dataframe tbody tr th {\n",
       "        vertical-align: top;\n",
       "    }\n",
       "\n",
       "    .dataframe thead th {\n",
       "        text-align: right;\n",
       "    }\n",
       "</style>\n",
       "<table border=\"1\" class=\"dataframe\">\n",
       "  <thead>\n",
       "    <tr style=\"text-align: right;\">\n",
       "      <th></th>\n",
       "      <th>Beta</th>\n",
       "      <th>SEbeta</th>\n",
       "      <th>Pvalue</th>\n",
       "    </tr>\n",
       "  </thead>\n",
       "  <tbody>\n",
       "    <tr>\n",
       "      <th>0</th>\n",
       "      <td>0.980455</td>\n",
       "      <td>0.000643</td>\n",
       "      <td>0.0</td>\n",
       "    </tr>\n",
       "    <tr>\n",
       "      <th>1</th>\n",
       "      <td>8.938638</td>\n",
       "      <td>0.466599</td>\n",
       "      <td>0.0</td>\n",
       "    </tr>\n",
       "  </tbody>\n",
       "</table>\n",
       "</div>"
      ],
      "text/plain": [
       "       Beta    SEbeta  Pvalue\n",
       "0  0.980455  0.000643     0.0\n",
       "1  8.938638  0.466599     0.0"
      ]
     },
     "execution_count": 5,
     "metadata": {},
     "output_type": "execute_result"
    }
   ],
   "source": [
    "p = 1\n",
    "con = 1\n",
    "tr = 0\n",
    "# exog = weather\n",
    "exog = 0\n",
    "\n",
    "Beta, SEbeta, _, Pvalue, tratioBeta, _, _, _, aiccrit, hqccrit, siccrit = VARlsExog(y, p, con, tr, exog)\n",
    "\n",
    "# Collect beta, SEbeta and tratioBeta in a single dataframe\n",
    "results = pd.DataFrame()\n",
    "results['Beta'] = Beta.reshape(-1, order='F')\n",
    "results['SEbeta'] = SEbeta\n",
    "results['Pvalue'] = Pvalue\n",
    "\n",
    "results.round({'Beta': 3, 'SEbeta': 3, 'Pvalue': 3})\n",
    "\n",
    "print(aiccrit, hqccrit, siccrit)\n",
    "\n",
    "results"
   ]
  }
 ],
 "metadata": {
  "kernelspec": {
   "display_name": "base",
   "language": "python",
   "name": "python3"
  },
  "language_info": {
   "codemirror_mode": {
    "name": "ipython",
    "version": 3
   },
   "file_extension": ".py",
   "mimetype": "text/x-python",
   "name": "python",
   "nbconvert_exporter": "python",
   "pygments_lexer": "ipython3",
   "version": "3.12.3"
  }
 },
 "nbformat": 4,
 "nbformat_minor": 2
}
