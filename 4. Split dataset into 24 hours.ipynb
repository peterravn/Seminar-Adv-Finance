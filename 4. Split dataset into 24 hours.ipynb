{
 "cells": [
  {
   "cell_type": "code",
   "execution_count": 67,
   "metadata": {},
   "outputs": [
    {
     "name": "stdout",
     "output_type": "stream",
     "text": [
      "The autoreload extension is already loaded. To reload it, use:\n",
      "  %reload_ext autoreload\n",
      "The autoreload extension is already loaded. To reload it, use:\n",
      "  %reload_ext autoreload\n"
     ]
    }
   ],
   "source": [
    "%reset -f\n",
    "\n",
    "%load_ext autoreload\n",
    "%autoreload 2\n",
    "\n",
    "import pandas as pd\n",
    "import numpy as np\n",
    "import matplotlib.pyplot as plt\n",
    "from functions import *\n",
    "\n",
    "\n",
    "%load_ext autoreload\n",
    "%autoreload 2\n",
    "\n",
    "# Load data\n",
    "data = pd.read_csv('Data/non_nan_data.csv')\n",
    "data = data.drop(['sun_mean', 'wind_mean', 'temp_mean', 'DK1_spot'], axis=1)\n",
    "\n",
    "cols_to_lag = [col for col in data.columns if col.startswith('sun_') or col.startswith('temp_') or col.startswith('wind_')]\n",
    "data[cols_to_lag] = data[cols_to_lag].shift(24)\n",
    "\n",
    "data = data.dropna()\n",
    "\n",
    "data.reset_index(drop=True, inplace=True)\n",
    "\n",
    "data_weather = data.drop(['DK2_spot', 'DATE'], axis=1)\n",
    "\n",
    "X_pca, explained_variance, residual_error = PCA_explained_variance(data_weather, 0.85)\n",
    "\n",
    "# Add X_pca to data where X_pca is a numpy array\n",
    "X_pca = pd.DataFrame(X_pca)\n",
    "data_pca = pd.concat([data, X_pca], axis=1)\n",
    "\n",
    "datasets = {hour: data_pca[pd.to_datetime(data_pca[\"DATE\"]).dt.hour == hour] for hour in range(24)}\n",
    "\n",
    "for hour, df in datasets.items():\n",
    "    df.to_csv(f\"Splits/dataset_hour_{hour}.csv\", index=False)"
   ]
  }
 ],
 "metadata": {
  "kernelspec": {
   "display_name": "base",
   "language": "python",
   "name": "python3"
  },
  "language_info": {
   "codemirror_mode": {
    "name": "ipython",
    "version": 3
   },
   "file_extension": ".py",
   "mimetype": "text/x-python",
   "name": "python",
   "nbconvert_exporter": "python",
   "pygments_lexer": "ipython3",
   "version": "3.12.7"
  }
 },
 "nbformat": 4,
 "nbformat_minor": 2
}
