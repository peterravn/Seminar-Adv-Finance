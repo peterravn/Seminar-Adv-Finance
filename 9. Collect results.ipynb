{
 "cells": [
  {
   "cell_type": "code",
   "execution_count": 1,
   "metadata": {},
   "outputs": [],
   "source": [
    "%reset -f\n",
    "\n",
    "%load_ext autoreload\n",
    "%autoreload 2\n",
    "\n",
    "import pandas as pd\n",
    "\n",
    "from functions import *\n",
    "\n",
    "datasets = {}\n",
    "for hour in range(24):\n",
    "    df = pd.read_csv(f\"Splits/dataset_hour_{hour}.csv\")\n",
    "\n",
    "    datasets[hour] = deseasonalize(df, \"both\")"
   ]
  },
  {
   "cell_type": "code",
   "execution_count": 2,
   "metadata": {},
   "outputs": [],
   "source": [
    "data_baseline = pd.read_csv('combined_predictions.csv')\n",
    "data_ml = pd.read_csv('combined_predictions_ml.csv')\n",
    "data_darma = pd.read_csv('combined_predictions_darma.csv')\n",
    "\n",
    "models_baseline = np.concatenate(\n",
    "    [[out_of_sample_pred(\n",
    "        np.array(data_baseline[\"Actual\"]).reshape(-1, 1), \n",
    "        np.array(data_baseline[f\"Model_{i}\"]).reshape(-1, 1)\n",
    "    )] for i in range(1, 7)],\n",
    ")\n",
    "\n",
    "model_ml = [out_of_sample_pred(np.array(data_baseline[\"Actual\"]).reshape(-1, 1),\n",
    "                               np.array(data_ml[f\"Predictions\"]).reshape(-1, 1))]\n",
    "\n",
    "models_darma = np.concatenate(\n",
    "    [[out_of_sample_pred(\n",
    "        np.array(data_baseline[\"Actual\"]).reshape(-1, 1), \n",
    "        np.array(data_darma[f\"Model_{i}\"]).reshape(-1, 1)\n",
    "    )] for i in range(1, 4)],\n",
    ")\n"
   ]
  },
  {
   "cell_type": "code",
   "execution_count": 4,
   "metadata": {},
   "outputs": [
    {
     "name": "stdout",
     "output_type": "stream",
     "text": [
      "\\begin{tabular}{llll}\n",
      "\\toprule\n",
      "Model & RMSE & SMAPE & RMAE \\\\\n",
      "\\midrule\n",
      "AR(1) with constant and first differences & 128.5 & 47.73 & 75.636 \\\\\n",
      "AR(7) with constant and first differences & 119.1 & 44.34 & 72.809 \\\\\n",
      "ARIMA(1,1,1) with constant & 116.8 & 46.14 & 72.602 \\\\\n",
      "ARIMAX(1,1,1) with constant & 116.2 & 46.10 & 72.224 \\\\\n",
      "ARIMAX(7,1,1) with constant & 118.6 & 44.24 & 73.192 \\\\\n",
      "Seasonal ARIMAX(1,1,1,7) with constant (non-seasonal data) & \\textbf{112.4} & \\textbf{41.19} & \\textbf{69.195} \\\\\n",
      "Lasso Estimated Autoregression & 130.2 & 47.57 & 81.471 \\\\\n",
      "DAR(3) & 125.0 & 46.33 & 74.303 \\\\\n",
      "DARMA(1,1) & 130.3 & 45.70 & 75.249 \\\\\n",
      "DARMAX(1,1) & 130.0 & 45.63 & 75.191 \\\\\n",
      "\\bottomrule\n",
      "\\end{tabular}\n",
      "\n"
     ]
    }
   ],
   "source": [
    "all_models = np.concatenate([models_baseline, model_ml, models_darma])\n",
    "\n",
    "model_names = [\n",
    "    'AR(1) with constant and first differences',\n",
    "    'AR(7) with constant and first differences',\n",
    "    'ARIMA(1,1,1) with constant',\n",
    "    'ARIMAX(1,1,1) with constant',\n",
    "    'ARIMAX(7,1,1) with constant',\n",
    "    'Seasonal ARIMAX(1,1,1,7) with constant (non-seasonal data)',\n",
    "    'Lasso Estimated Autoregression',\n",
    "    'DAR(3)',\n",
    "    'DARMA(1,1)',\n",
    "    'DARMAX(1,1)'\n",
    "]\n",
    "\n",
    "df = pd.DataFrame(all_models, columns=['RMSE', 'SMAPE', 'RMAE'])\n",
    "df['Model'] = model_names\n",
    "df = df[['Model', 'RMSE', 'SMAPE', 'RMAE']]\n",
    "\n",
    "# Identify min values\n",
    "min_rmse = df['RMSE'].min()\n",
    "min_smape = df['SMAPE'].min()\n",
    "min_rmae = df['RMAE'].min()\n",
    "\n",
    "# Bold formatting for min values\n",
    "df['RMSE'] = df['RMSE'].apply(lambda x: '\\\\textbf{{{:.1f}}}'.format(x) if x == min_rmse else '{:.1f}'.format(x))\n",
    "df['SMAPE'] = df['SMAPE'].apply(lambda x: '\\\\textbf{{{:.2f}}}'.format(x) if x == min_smape else '{:.2f}'.format(x))\n",
    "df['RMAE'] = df['RMAE'].apply(lambda x: '\\\\textbf{{{:.3f}}}'.format(x) if x == min_rmae else '{:.3f}'.format(x))\n",
    "\n",
    "# Print LaTeX\n",
    "print(df.to_latex(index=False, escape=False))"
   ]
  },
  {
   "cell_type": "code",
   "execution_count": 14,
   "metadata": {},
   "outputs": [
    {
     "ename": "ValueError",
     "evalue": "array length 14712 does not match index length 8736",
     "output_type": "error",
     "traceback": [
      "\u001b[1;31m---------------------------------------------------------------------------\u001b[0m",
      "\u001b[1;31mValueError\u001b[0m                                Traceback (most recent call last)",
      "Cell \u001b[1;32mIn[14], line 15\u001b[0m\n\u001b[0;32m     11\u001b[0m         datasets_dates\u001b[38;5;241m.\u001b[39mappend(dataset_date[hour][day])\n\u001b[0;32m     13\u001b[0m time \u001b[38;5;241m=\u001b[39m np\u001b[38;5;241m.\u001b[39marray(datasets_dates[\u001b[38;5;241m-\u001b[39m\u001b[38;5;241m14712\u001b[39m:])\n\u001b[1;32m---> 15\u001b[0m df \u001b[38;5;241m=\u001b[39m pd\u001b[38;5;241m.\u001b[39mDataFrame({\n\u001b[0;32m     16\u001b[0m     \u001b[38;5;124m'\u001b[39m\u001b[38;5;124mTime\u001b[39m\u001b[38;5;124m'\u001b[39m: time,\n\u001b[0;32m     17\u001b[0m     \u001b[38;5;124m'\u001b[39m\u001b[38;5;124mARIMA\u001b[39m\u001b[38;5;124m'\u001b[39m: data_baseline[\u001b[38;5;124m'\u001b[39m\u001b[38;5;124mModel_3\u001b[39m\u001b[38;5;124m'\u001b[39m],\n\u001b[0;32m     18\u001b[0m     \u001b[38;5;124m'\u001b[39m\u001b[38;5;124mLEAR\u001b[39m\u001b[38;5;124m'\u001b[39m: data_ml[\u001b[38;5;124m'\u001b[39m\u001b[38;5;124mPredictions\u001b[39m\u001b[38;5;124m'\u001b[39m],\n\u001b[0;32m     19\u001b[0m     \u001b[38;5;124m'\u001b[39m\u001b[38;5;124mDARMA\u001b[39m\u001b[38;5;124m'\u001b[39m: data_darma[\u001b[38;5;124m'\u001b[39m\u001b[38;5;124mModel_2\u001b[39m\u001b[38;5;124m'\u001b[39m],\n\u001b[0;32m     20\u001b[0m     \u001b[38;5;124m'\u001b[39m\u001b[38;5;124mActual\u001b[39m\u001b[38;5;124m'\u001b[39m: data_baseline[\u001b[38;5;124m'\u001b[39m\u001b[38;5;124mActual\u001b[39m\u001b[38;5;124m'\u001b[39m],\n\u001b[0;32m     21\u001b[0m })\n\u001b[0;32m     23\u001b[0m df[\u001b[38;5;124m'\u001b[39m\u001b[38;5;124mTime\u001b[39m\u001b[38;5;124m'\u001b[39m] \u001b[38;5;241m=\u001b[39m pd\u001b[38;5;241m.\u001b[39mto_datetime(df[\u001b[38;5;124m'\u001b[39m\u001b[38;5;124mTime\u001b[39m\u001b[38;5;124m'\u001b[39m])\n\u001b[0;32m     24\u001b[0m df \u001b[38;5;241m=\u001b[39m df\u001b[38;5;241m.\u001b[39mset_index(\u001b[38;5;124m'\u001b[39m\u001b[38;5;124mTime\u001b[39m\u001b[38;5;124m'\u001b[39m)\n",
      "File \u001b[1;32mc:\\Users\\peter\\anaconda3\\Lib\\site-packages\\pandas\\core\\frame.py:778\u001b[0m, in \u001b[0;36mDataFrame.__init__\u001b[1;34m(self, data, index, columns, dtype, copy)\u001b[0m\n\u001b[0;32m    772\u001b[0m     mgr \u001b[38;5;241m=\u001b[39m \u001b[38;5;28mself\u001b[39m\u001b[38;5;241m.\u001b[39m_init_mgr(\n\u001b[0;32m    773\u001b[0m         data, axes\u001b[38;5;241m=\u001b[39m{\u001b[38;5;124m\"\u001b[39m\u001b[38;5;124mindex\u001b[39m\u001b[38;5;124m\"\u001b[39m: index, \u001b[38;5;124m\"\u001b[39m\u001b[38;5;124mcolumns\u001b[39m\u001b[38;5;124m\"\u001b[39m: columns}, dtype\u001b[38;5;241m=\u001b[39mdtype, copy\u001b[38;5;241m=\u001b[39mcopy\n\u001b[0;32m    774\u001b[0m     )\n\u001b[0;32m    776\u001b[0m \u001b[38;5;28;01melif\u001b[39;00m \u001b[38;5;28misinstance\u001b[39m(data, \u001b[38;5;28mdict\u001b[39m):\n\u001b[0;32m    777\u001b[0m     \u001b[38;5;66;03m# GH#38939 de facto copy defaults to False only in non-dict cases\u001b[39;00m\n\u001b[1;32m--> 778\u001b[0m     mgr \u001b[38;5;241m=\u001b[39m dict_to_mgr(data, index, columns, dtype\u001b[38;5;241m=\u001b[39mdtype, copy\u001b[38;5;241m=\u001b[39mcopy, typ\u001b[38;5;241m=\u001b[39mmanager)\n\u001b[0;32m    779\u001b[0m \u001b[38;5;28;01melif\u001b[39;00m \u001b[38;5;28misinstance\u001b[39m(data, ma\u001b[38;5;241m.\u001b[39mMaskedArray):\n\u001b[0;32m    780\u001b[0m     \u001b[38;5;28;01mfrom\u001b[39;00m \u001b[38;5;21;01mnumpy\u001b[39;00m\u001b[38;5;21;01m.\u001b[39;00m\u001b[38;5;21;01mma\u001b[39;00m \u001b[38;5;28;01mimport\u001b[39;00m mrecords\n",
      "File \u001b[1;32mc:\\Users\\peter\\anaconda3\\Lib\\site-packages\\pandas\\core\\internals\\construction.py:503\u001b[0m, in \u001b[0;36mdict_to_mgr\u001b[1;34m(data, index, columns, dtype, typ, copy)\u001b[0m\n\u001b[0;32m    499\u001b[0m     \u001b[38;5;28;01melse\u001b[39;00m:\n\u001b[0;32m    500\u001b[0m         \u001b[38;5;66;03m# dtype check to exclude e.g. range objects, scalars\u001b[39;00m\n\u001b[0;32m    501\u001b[0m         arrays \u001b[38;5;241m=\u001b[39m [x\u001b[38;5;241m.\u001b[39mcopy() \u001b[38;5;28;01mif\u001b[39;00m \u001b[38;5;28mhasattr\u001b[39m(x, \u001b[38;5;124m\"\u001b[39m\u001b[38;5;124mdtype\u001b[39m\u001b[38;5;124m\"\u001b[39m) \u001b[38;5;28;01melse\u001b[39;00m x \u001b[38;5;28;01mfor\u001b[39;00m x \u001b[38;5;129;01min\u001b[39;00m arrays]\n\u001b[1;32m--> 503\u001b[0m \u001b[38;5;28;01mreturn\u001b[39;00m arrays_to_mgr(arrays, columns, index, dtype\u001b[38;5;241m=\u001b[39mdtype, typ\u001b[38;5;241m=\u001b[39mtyp, consolidate\u001b[38;5;241m=\u001b[39mcopy)\n",
      "File \u001b[1;32mc:\\Users\\peter\\anaconda3\\Lib\\site-packages\\pandas\\core\\internals\\construction.py:114\u001b[0m, in \u001b[0;36marrays_to_mgr\u001b[1;34m(arrays, columns, index, dtype, verify_integrity, typ, consolidate)\u001b[0m\n\u001b[0;32m    111\u001b[0m \u001b[38;5;28;01mif\u001b[39;00m verify_integrity:\n\u001b[0;32m    112\u001b[0m     \u001b[38;5;66;03m# figure out the index, if necessary\u001b[39;00m\n\u001b[0;32m    113\u001b[0m     \u001b[38;5;28;01mif\u001b[39;00m index \u001b[38;5;129;01mis\u001b[39;00m \u001b[38;5;28;01mNone\u001b[39;00m:\n\u001b[1;32m--> 114\u001b[0m         index \u001b[38;5;241m=\u001b[39m _extract_index(arrays)\n\u001b[0;32m    115\u001b[0m     \u001b[38;5;28;01melse\u001b[39;00m:\n\u001b[0;32m    116\u001b[0m         index \u001b[38;5;241m=\u001b[39m ensure_index(index)\n",
      "File \u001b[1;32mc:\\Users\\peter\\anaconda3\\Lib\\site-packages\\pandas\\core\\internals\\construction.py:690\u001b[0m, in \u001b[0;36m_extract_index\u001b[1;34m(data)\u001b[0m\n\u001b[0;32m    685\u001b[0m     \u001b[38;5;28;01mif\u001b[39;00m lengths[\u001b[38;5;241m0\u001b[39m] \u001b[38;5;241m!=\u001b[39m \u001b[38;5;28mlen\u001b[39m(index):\n\u001b[0;32m    686\u001b[0m         msg \u001b[38;5;241m=\u001b[39m (\n\u001b[0;32m    687\u001b[0m             \u001b[38;5;124mf\u001b[39m\u001b[38;5;124m\"\u001b[39m\u001b[38;5;124marray length \u001b[39m\u001b[38;5;132;01m{\u001b[39;00mlengths[\u001b[38;5;241m0\u001b[39m]\u001b[38;5;132;01m}\u001b[39;00m\u001b[38;5;124m does not match index \u001b[39m\u001b[38;5;124m\"\u001b[39m\n\u001b[0;32m    688\u001b[0m             \u001b[38;5;124mf\u001b[39m\u001b[38;5;124m\"\u001b[39m\u001b[38;5;124mlength \u001b[39m\u001b[38;5;132;01m{\u001b[39;00m\u001b[38;5;28mlen\u001b[39m(index)\u001b[38;5;132;01m}\u001b[39;00m\u001b[38;5;124m\"\u001b[39m\n\u001b[0;32m    689\u001b[0m         )\n\u001b[1;32m--> 690\u001b[0m         \u001b[38;5;28;01mraise\u001b[39;00m \u001b[38;5;167;01mValueError\u001b[39;00m(msg)\n\u001b[0;32m    691\u001b[0m \u001b[38;5;28;01melse\u001b[39;00m:\n\u001b[0;32m    692\u001b[0m     index \u001b[38;5;241m=\u001b[39m default_index(lengths[\u001b[38;5;241m0\u001b[39m])\n",
      "\u001b[1;31mValueError\u001b[0m: array length 14712 does not match index length 8736"
     ]
    }
   ],
   "source": [
    "dataset_date = [datasets[hour]['DATE'] for hour in range(24)]\n",
    "\n",
    "datasets_dates = []\n",
    "\n",
    "n_days = min(len(datasets[hour]) for hour in range(24))\n",
    "\n",
    "combined_predictions = []\n",
    "\n",
    "for day in range(n_days):\n",
    "    for hour in range(24):\n",
    "        datasets_dates.append(dataset_date[hour][day])\n",
    "\n",
    "time = np.array(datasets_dates[-14712:])\n",
    "\n",
    "df = pd.DataFrame({\n",
    "    'Time': time,\n",
    "    'ARIMA': data_baseline['Model_3'],\n",
    "    'LEAR': data_ml['Predictions'],\n",
    "    'DARMA': data_darma['Model_2'],\n",
    "    'Actual': data_baseline['Actual'],\n",
    "})\n",
    "\n",
    "df['Time'] = pd.to_datetime(df['Time'])\n",
    "df = df.set_index('Time')\n",
    "\n",
    "# If date is 2023-01-01 and next 7 days plot\n",
    "df = df.loc['2024-06-1':'2024-06-7']\n",
    "\n",
    "plt.figure(figsize=(8, 4))\n",
    "plt.plot(df.index, df['Actual'], label='Actual',  color='black', linewidth=1)\n",
    "plt.plot(df.index, df['ARIMA'], label='ARIMA',  color='blue', linewidth=0.65, linestyle='--')\n",
    "plt.plot(df.index, df['LEAR'], label='LEAR',  color='red', linewidth=0.65, linestyle='--')\n",
    "plt.plot(df.index, df['DARMA'], label='DARMA',  color='grey', linewidth=0.65, linestyle='--')\n",
    "\n",
    "plt.xlabel('Time', fontsize=12)\n",
    "plt.ylabel('DKK per MWh', fontsize=12)\n",
    "\n",
    "plt.legend()\n",
    "plt.grid(True, which='both', linestyle='--', linewidth=0.5)\n",
    "plt.tight_layout()\n",
    "\n",
    "plt.show()\n"
   ]
  },
  {
   "cell_type": "code",
   "execution_count": 8,
   "metadata": {},
   "outputs": [
    {
     "data": {
      "text/plain": [
       "(8736,)"
      ]
     },
     "execution_count": 8,
     "metadata": {},
     "output_type": "execute_result"
    }
   ],
   "source": [
    "data_ml['Predictions'].shape"
   ]
  },
  {
   "cell_type": "code",
   "execution_count": 13,
   "metadata": {},
   "outputs": [
    {
     "data": {
      "text/plain": [
       "93576"
      ]
     },
     "execution_count": 13,
     "metadata": {},
     "output_type": "execute_result"
    }
   ],
   "source": [
    "len(datasets_dates)"
   ]
  }
 ],
 "metadata": {
  "kernelspec": {
   "display_name": "base",
   "language": "python",
   "name": "python3"
  },
  "language_info": {
   "codemirror_mode": {
    "name": "ipython",
    "version": 3
   },
   "file_extension": ".py",
   "mimetype": "text/x-python",
   "name": "python",
   "nbconvert_exporter": "python",
   "pygments_lexer": "ipython3",
   "version": "3.12.7"
  }
 },
 "nbformat": 4,
 "nbformat_minor": 2
}
