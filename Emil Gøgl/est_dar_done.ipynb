{
 "cells": [
  {
   "cell_type": "code",
   "execution_count": 222,
   "metadata": {},
   "outputs": [],
   "source": [
    "#Importing packages we need\n",
    "from numpy import genfromtxt #This is used to loading a csv-file as a numpy array\n",
    "import numpy as np\n",
    "import scipy.optimize as opt #used to numerically optimize\n",
    "import matplotlib.pyplot as plt #pyplot is used to plot the data\n",
    "import pandas as pd\n",
    "from matplotlib import cm\n",
    "import numdifftools as nd #Using this package to numerically approximate the hessian matrix"
   ]
  },
  {
   "cell_type": "code",
   "execution_count": 223,
   "metadata": {},
   "outputs": [],
   "source": [
    "#Locate my folder\n",
    "my_folder='C:/Users/INSERT YOUR FOLDER/'\n",
    "#C:\\Users\\vjule\\OneDrive\\Dokumenter\\skole\\Kandidatfag\\Financial_econometrics\\Undervisning\\Assignments\n",
    "y_val = genfromtxt(my_folder+'xbtusd.csv', delimiter=',') #loading the csv data and storing it as a np array\n",
    "Y = y_val[:, 3:4] #Taking the relevant retrended column from the CSV-file \n",
    "Y=Y[1:] #First observation is a NaN value and we get rid of that \n",
    "T=len(Y) #Finding length of the column which we use to reshape (right now it is a (TX1) np array, I want a 1XT even though the code might still work for the former)\n",
    "Y=np.reshape(Y,T) #Getting a 1XT np array (so a \"standard\" np.array with our observations)"
   ]
  },
  {
   "cell_type": "code",
   "execution_count": 224,
   "metadata": {},
   "outputs": [],
   "source": [
    "def DAR_likelihood(phi, omega, alpha,):\n",
    "    T=len(Y)\n",
    "    \n",
    "    #Define the series sigma^2_t (sigma2), e_t=x_t-phi*x_{t-1} (e) as empty variables we assign values to later. \n",
    "    sigma2=np.zeros(T)\n",
    "    e=np.zeros(T)\n",
    "    logli=np.zeros(T)\n",
    "    \n",
    "    for t in range(1,T):\n",
    "        sigma2[t]=omega + alpha*Y[t-1]**2\n",
    "        e[t]=Y[t]-phi*Y[t-1]\n",
    "        logli[t]=-0.5*np.log(2*np.pi)-0.5*np.log(sigma2[t])-0.5*e[t]**2/sigma2[t]\n",
    "    \n",
    "    LogL=-np.sum(logli)\n",
    "    #Note we take the expression and multiply with (-1) as we are going to minimize the function in the optimization\n",
    "    \n",
    "    return LogL\n",
    "\n",
    "def optim(x): #defining an optimization function that only can change phi,omega and alpha\n",
    "    ph,ome,alp=x \n",
    "    return DAR_likelihood(phi=ph, omega=ome,alpha=alp)"
   ]
  },
  {
   "cell_type": "code",
   "execution_count": 225,
   "metadata": {},
   "outputs": [
    {
     "name": "stderr",
     "output_type": "stream",
     "text": [
      "C:\\Users\\vjule\\Anaconda3\\lib\\site-packages\\ipykernel_launcher.py:12: RuntimeWarning: invalid value encountered in log\n",
      "  if sys.path[0] == '':\n"
     ]
    }
   ],
   "source": [
    "#Maximization - \n",
    "#Note on the optimization: I wish to highlight that the optimazation of the DAR-likelihood is rather complex and some\n",
    "# - optimizers (like Newton-CG and L-BFGS-B) have an issue getting satisfying convergence. We use SLSQP which is ideal\n",
    "#- for mathematical problems for which the objective function and the constraints are twice continuously differentiable.\n",
    "#- Nevertheless, when using SLSQP we can't get the inverse hessian directly from the computation (from scipy) which we used\n",
    "#- for the ARCH(1) optimizations. In order to get the hessian and thereby the standard errors of the estimates we use\n",
    "#- numdifftools which approximate the hessian numerically. \n",
    "Par0=np.array([0.0,0.05,0.5]) #initial guesses\n",
    "res=opt.minimize(optim, Par0, method='SLSQP', bounds=((0.0001,None),(0,None),(None,None))) #optimizing using the SLSQP (sequential least squares programming) algorithm"
   ]
  },
  {
   "cell_type": "code",
   "execution_count": 226,
   "metadata": {},
   "outputs": [
    {
     "data": {
      "text/plain": [
       "array([ 0.90141668, 47.66499143,  0.18591563])"
      ]
     },
     "execution_count": 226,
     "metadata": {},
     "output_type": "execute_result"
    }
   ],
   "source": [
    "res.x"
   ]
  },
  {
   "cell_type": "code",
   "execution_count": 229,
   "metadata": {},
   "outputs": [
    {
     "name": "stderr",
     "output_type": "stream",
     "text": [
      "C:\\Users\\vjule\\Anaconda3\\lib\\site-packages\\ipykernel_launcher.py:12: RuntimeWarning: invalid value encountered in log\n",
      "  if sys.path[0] == '':\n",
      "C:\\Users\\vjule\\Anaconda3\\lib\\site-packages\\numdifftools\\extrapolation.py:489: RuntimeWarning: invalid value encountered in less_equal\n",
      "  converged = err <= tol\n",
      "C:\\Users\\vjule\\Anaconda3\\lib\\site-packages\\numdifftools\\limits.py:173: RuntimeWarning: invalid value encountered in less\n",
      "  outliers = (((abs(der) < (a_median / trim_fact)) +\n",
      "C:\\Users\\vjule\\Anaconda3\\lib\\site-packages\\numdifftools\\limits.py:174: RuntimeWarning: invalid value encountered in greater\n",
      "  (abs(der) > (a_median * trim_fact))) * (a_median > 1e-8) +\n",
      "C:\\Users\\vjule\\Anaconda3\\lib\\site-packages\\numdifftools\\limits.py:175: RuntimeWarning: invalid value encountered in less\n",
      "  ((der < p25 - 1.5 * iqr) + (p75 + 1.5 * iqr < der)))\n"
     ]
    }
   ],
   "source": [
    "H = nd.Hessian(optim)([0.9014295 , 47.66480794,  0.18590847]) #Approximating the hessian numerically evaluated at the parameter estimates\n",
    "#Neglect the warning message in this case"
   ]
  },
  {
   "cell_type": "code",
   "execution_count": 230,
   "metadata": {},
   "outputs": [],
   "source": [
    "V_H=np.linalg.inv(H) #Getting the inverse hessian\n",
    "se_H=np.sqrt(np.diagonal(V_H)) #Getting the standard errors from the inverse hessian"
   ]
  },
  {
   "cell_type": "code",
   "execution_count": 231,
   "metadata": {},
   "outputs": [
    {
     "name": "stdout",
     "output_type": "stream",
     "text": [
      "Estimates are given by with std. errors and t_vals in ():\n",
      "phi_bar_est= 0.9014166827328587, ( se(.)=0.07182136236151342, t_val= 12.550815705716781 )\n",
      "omega_est= 47.664991433848485, ( se(.)=8.618364652772472, t_val= 5.530630618944044 )\n",
      "alpha_est= 0.1859156324792882, ( se(.)=0.0498305578462223, t_val= 3.730956274923232 )\n"
     ]
    }
   ],
   "source": [
    "phi_est=res.x[0]\n",
    "omega_est=res.x[1]\n",
    "alpha_est=res.x[2]\n",
    "print('Estimates are given by with std. errors and t_vals in ():')\n",
    "print('phi_bar_est= '+str(phi_est)+', ( se(.)=' +str(se_H[0])+', t_val= ' +str(phi_est/se_H[0])+' )' )\n",
    "print('omega_est= '+str(omega_est)+', ( se(.)=' +str(se_H[1])+', t_val= ' +str(omega_est/se_H[1])+' )' )\n",
    "print('alpha_est= '+str(alpha_est)+', ( se(.)=' +str(se_H[2])+', t_val= ' +str(alpha_est/se_H[2])+' )' )"
   ]
  },
  {
   "cell_type": "code",
   "execution_count": null,
   "metadata": {},
   "outputs": [],
   "source": []
  }
 ],
 "metadata": {
  "kernelspec": {
   "display_name": "Python 3",
   "language": "python",
   "name": "python3"
  },
  "language_info": {
   "codemirror_mode": {
    "name": "ipython",
    "version": 3
   },
   "file_extension": ".py",
   "mimetype": "text/x-python",
   "name": "python",
   "nbconvert_exporter": "python",
   "pygments_lexer": "ipython3",
   "version": "3.7.4"
  }
 },
 "nbformat": 4,
 "nbformat_minor": 4
}
