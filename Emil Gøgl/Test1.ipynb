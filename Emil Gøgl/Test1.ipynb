{
 "cells": [
  {
   "cell_type": "code",
   "execution_count": 3,
   "metadata": {},
   "outputs": [],
   "source": [
    "import numpy as np\n",
    "import pandas as pd\n",
    "import matplotlib.pyplot as plt\n",
    "from sklearn.decomposition import PCA\n",
    "\n",
    "import numpy as np\n",
    "import scipy\n",
    "from scipy.special import gammaln\n",
    "from scipy.stats import norm\n",
    "from scipy.stats import t as student_t\n"
   ]
  },
  {
   "cell_type": "code",
   "execution_count": 4,
   "metadata": {},
   "outputs": [],
   "source": [
    "# Load each\n",
    "datasets = {}\n",
    "for hour in range(24):\n",
    "    datasets[hour] = pd.read_csv(f\"Splits/dataset_hour_{hour}.csv\")\n",
    "\n",
    "datasets_train = {hour: datasets[hour][(datasets[hour]['DATE'] >= '2014-01-01') & (datasets[hour]['DATE'] < '2023-01-01')].drop(['DATE'], axis=1).to_numpy() for hour in range(24)}\n",
    "datasets_test = {hour: datasets[hour][datasets[hour]['DATE'] >= '2023-01-01'].drop(['DATE'], axis=1).to_numpy() for hour in range(24)}\n",
    "\n",
    "y_train = {hour: datasets_train[hour][:, 0].reshape(-1, 1) for hour in range(24)}\n",
    "y_test = {hour: datasets_test[hour][:, 0].reshape(-1, 1) for hour in range(24)}\n",
    "\n",
    "weather_train = {hour: datasets_train[hour][:, 1:-1] for hour in range(24)}\n",
    "weather_test = {hour: datasets_test[hour][:, 1:-1] for hour in range(24)}\n"
   ]
  },
  {
   "cell_type": "code",
   "execution_count": 5,
   "metadata": {},
   "outputs": [],
   "source": [
    "Y = y_train[20]\n",
    "X = weather_train[20]\n",
    "X = X[:,27:30]"
   ]
  },
  {
   "cell_type": "markdown",
   "metadata": {},
   "source": [
    "## DAR MLE"
   ]
  },
  {
   "cell_type": "code",
   "execution_count": 374,
   "metadata": {},
   "outputs": [],
   "source": [
    "def MLE_DAR(Y):\n",
    "    \n",
    "    # Time array t\n",
    "    max_lag = 1\n",
    "    T = len(Y)\n",
    "    Y = np.vstack([np.full((max_lag, 1), np.nan), Y])\n",
    "    t = np.arange(start = -1, stop = -(T + 1), step = -1)\n",
    "\n",
    "    def loglikelihood_function(params):\n",
    "\n",
    "        rho, omega, alpha = params\n",
    "        \n",
    "        # Define function objects at time t\n",
    "        y = lambda t: Y[t]\n",
    "        sigma = lambda t: np.sqrt(omega + alpha * y(t-1)**2)\n",
    "\n",
    "        # Define conditional expectation and conditional variance at time t\n",
    "        cond_mean = lambda t: rho * y(t-1)\n",
    "        cond_var = lambda t: sigma(t)**2\n",
    "        \n",
    "        # compute sum of likelihood contributions\n",
    "        l_t = -1/2 * (np.log(cond_var(t)) + (y(t) - cond_mean(t))**2 / cond_var(t))\n",
    "        L_t = np.nansum(l_t)\n",
    "        return -L_t\n",
    "    \n",
    "    # initialise parameters\n",
    "    rho_init = 0.0\n",
    "    omega_init = 0.05\n",
    "    alpha_init = 0.5\n",
    "    init_params = np.array([rho_init, omega_init, alpha_init])\n",
    "\n",
    "    # set parameter bounds\n",
    "    rho_bound = (0,None)\n",
    "    omega_bound = (0,None)\n",
    "    alpha_bound = (0,None)\n",
    "    bounds_params = (rho_bound, omega_bound, alpha_bound)\n",
    "\n",
    "    MLE_estimates = scipy.optimize.minimize(loglikelihood_function, init_params, method='SLSQP', bounds = bounds_params)\n",
    "\n",
    "    return MLE_estimates.x"
   ]
  },
  {
   "cell_type": "code",
   "execution_count": 376,
   "metadata": {},
   "outputs": [
    {
     "data": {
      "text/plain": [
       "array([1.11537111e+00, 5.44034483e+03, 3.41321437e+00])"
      ]
     },
     "execution_count": 376,
     "metadata": {},
     "output_type": "execute_result"
    }
   ],
   "source": [
    "DAR_params = MLE_DAR(Y)\n",
    "DAR_params"
   ]
  },
  {
   "cell_type": "markdown",
   "metadata": {},
   "source": [
    "## DAR Forecast"
   ]
  },
  {
   "cell_type": "code",
   "execution_count": 381,
   "metadata": {},
   "outputs": [],
   "source": [
    "def DAR_forecast(parameters, Y):\n",
    "    \n",
    "    rho, omega, alpha = parameters\n",
    "    \n",
    "    max_lag = 0\n",
    "    T = len(Y)\n",
    "    Y = np.vstack([np.full((max_lag, 1), np.nan), Y])\n",
    "\n",
    "    # Time array t\n",
    "    t = np.arange(start = -1, stop = -(T + 1), step = -1)\n",
    "\n",
    "    # Define function objects at time t    \n",
    "    y = lambda t: Y[t]\n",
    "    sigma = lambda t: np.sqrt(omega + alpha * y(t-1)**2)\n",
    "    \n",
    "    # 1-step-ahead forecast array\n",
    "    expected_mean = rho * y(t)\n",
    "    \n",
    "    return np.flip(np.append(expected_mean, np.nan)).reshape(-1,1)"
   ]
  },
  {
   "cell_type": "code",
   "execution_count": 384,
   "metadata": {},
   "outputs": [
    {
     "data": {
      "text/plain": [
       "1.1153711071407957"
      ]
     },
     "execution_count": 384,
     "metadata": {},
     "output_type": "execute_result"
    }
   ],
   "source": [
    "DAR_params[0] "
   ]
  },
  {
   "cell_type": "code",
   "execution_count": 382,
   "metadata": {},
   "outputs": [
    {
     "data": {
      "text/plain": [
       "array([[         nan],\n",
       "       [256.07804803],\n",
       "       [238.94594782],\n",
       "       ...,\n",
       "       [207.43671404],\n",
       "       [ 12.02370053],\n",
       "       [123.50504604]])"
      ]
     },
     "execution_count": 382,
     "metadata": {},
     "output_type": "execute_result"
    }
   ],
   "source": [
    "fcast = DAR_forecast(DAR_params,Y)\n",
    "fcast"
   ]
  },
  {
   "cell_type": "code",
   "execution_count": 999,
   "metadata": {},
   "outputs": [],
   "source": [
    "def DAR_sim(parameters, T, set_seed):\n",
    "    np.random.seed(set_seed)\n",
    "    rho, omega, alpha = parameters\n",
    "\n",
    "    max_lag = 1\n",
    "    \n",
    "    # Initialize arrays\n",
    "    Y = np.zeros(T)\n",
    "    Z = np.random.normal(loc=0, scale=1, size=T)\n",
    "\n",
    "    # Initialize the process\n",
    "    Y[0] = 1 \n",
    "\n",
    "    # Define function objects at time t\n",
    "    y = lambda t: Y[t]\n",
    "    z = lambda t: Z[t]\n",
    "    sigma = lambda t: np.sqrt(omega + alpha * Y[t-1]**2)\n",
    "    epsilon = lambda t: sigma(t) * z(t)\n",
    "\n",
    "    # The model\n",
    "    DAR = lambda t: rho * y(t-1) + epsilon(t)\n",
    "\n",
    "    # Update Y\n",
    "    for t in range(max_lag, T):\n",
    "        Y[t] = DAR(t)\n",
    "    return Y"
   ]
  },
  {
   "cell_type": "code",
   "execution_count": null,
   "metadata": {},
   "outputs": [],
   "source": []
  },
  {
   "cell_type": "code",
   "execution_count": null,
   "metadata": {},
   "outputs": [],
   "source": []
  },
  {
   "cell_type": "code",
   "execution_count": null,
   "metadata": {},
   "outputs": [],
   "source": []
  },
  {
   "cell_type": "code",
   "execution_count": null,
   "metadata": {},
   "outputs": [],
   "source": []
  },
  {
   "cell_type": "markdown",
   "metadata": {},
   "source": [
    "## DARMA-X CLASS"
   ]
  },
  {
   "cell_type": "code",
   "execution_count": 48,
   "metadata": {},
   "outputs": [],
   "source": [
    "class DARMAX:\n",
    "    def __init__(self, p):\n",
    "        \"\"\"\n",
    "        Initialize the DAR class\n",
    "        \"\"\"\n",
    "        self.p = p\n",
    "        self.d = 0\n",
    "        self.params = None\n",
    "        #self.prams_num = 1 + 2 * self.p\n",
    "        self.loglikelihood_val = None\n",
    "    \n",
    "    def t(self, Y):\n",
    "        T = len(Y)\n",
    "        t = np.arange(start=-1, stop=-(T+1), step=-1)\n",
    "        return t\n",
    "    \n",
    "    def Y(self, Y):\n",
    "        max_lag = self.p + 1 # DARMA has one more lag than the DAR\n",
    "        Y = np.vstack([np.full((max_lag, 1), np.nan), Y.reshape(-1, 1)])\n",
    "        return Y\n",
    "    \n",
    "    def X(self, X):\n",
    "        \n",
    "        max_lag = self.p + 1 # DARMA has one more lag than the DAR\n",
    "        \n",
    "        if X is None:\n",
    "            return np.full((max_lag, 1), np.nan)\n",
    "        \n",
    "        X = np.vstack([np.full((max_lag, 1), np.nan), X.reshape(-1, 1)])\n",
    "        return X\n",
    "    \n",
    "    def y(self, Y):\n",
    "        Y = self.Y(Y)\n",
    "        y = lambda t: Y[t]\n",
    "        return y\n",
    "    \n",
    "    def x(self, X):\n",
    "        X = self.X(X)\n",
    "        x = lambda t: X[t]\n",
    "        return x\n",
    "    \n",
    "    def parse_params(self, params):\n",
    "        rho = params[:self.p]\n",
    "        omega = params[self.p]\n",
    "        alpha = params[self.p + 1:self.p + 1 + self.p]\n",
    "        gamma = params[self.p + 1 + self.p:self.p + 1 + self.p + self.d]\n",
    "        \n",
    "        params_dict = {\n",
    "            \"rho\": rho,\n",
    "            \"omega\": omega,\n",
    "            \"alpha\": alpha,\n",
    "            \"gamma\": gamma,\n",
    "            }\n",
    "        return params_dict\n",
    "\n",
    "    def cond_mean(self, Y, X, params):\n",
    "        \n",
    "        rho = params[\"rho\"]\n",
    "        phi = params[\"phi\"]\n",
    "        omega = params[\"omega\"]\n",
    "        alpha = params[\"alpha\"]\n",
    "        gamma = params[\"gamma\"]\n",
    "\n",
    "        y = self.y(Y)\n",
    "        x = self.x(X)\n",
    "        \n",
    "        sigma = lambda t: np.sqrt(omega \n",
    "                                  + sum(alpha[i] * y(t-(i+1))**2 for i in range(self.p))\n",
    "                                  + sum(gamma[i] @ (x(t-(i+1))**2).T for i in range(self.p))\n",
    "                                  )\n",
    "        \n",
    "        beta = lambda t: phi * (y(t) - sum(rho[i] * y(t-(i+1)) for i in range(self.p)) / sigma(t))\n",
    "\n",
    "        cond_mean = lambda t: sum(rho[i] * y(t-(i+1)) for i in range(self.p)) + sigma(t) * beta(t-1)\n",
    "        \n",
    "        return cond_mean\n",
    "\n",
    "    def cond_var(self, Y, X = None, params = None):\n",
    "        omega = params[\"omega\"]\n",
    "        alpha = params[\"alpha\"]\n",
    "        gamma = params[\"gamma\"]\n",
    "        \n",
    "        y = self.y(Y)\n",
    "        x = self.x(X) if X is not None else lambda t: 0\n",
    "        \n",
    "        cond_var = lambda t: (omega \n",
    "                          + sum(alpha[i] * y(t-(i+1))**2 for i in range(self.p))\n",
    "                          + (sum(gamma[i] @ (x(t-(i+1))**2).T for i in range(self.p)))\n",
    "                         )\n",
    "        return cond_var\n",
    "    \n",
    "    def fit_normal(self, Y, X = None):\n",
    "\n",
    "        t = self.t(Y)\n",
    "        y = self.y(Y)\n",
    "        x = self.x(X)\n",
    "        self.d = X.shape[1] if X is not None else 0\n",
    "\n",
    "        def MLE(params):\n",
    "            params = self.parse_params(params)\n",
    "            cond_var = self.cond_var(Y, X, params)\n",
    "            \n",
    "            l_t = -1/2 * (np.log(cond_var(t)) + (y(t)**2) / cond_var(t))\n",
    "            L_t = np.nansum(l_t)\n",
    "            \n",
    "            return -L_t\n",
    "        \n",
    "        # Initialize parameters\n",
    "        omega_init = [0.05]\n",
    "        alpha_init = [0.5] * self.p\n",
    "        gamma_init = [0.5] * (self.p * self.d)\n",
    "        init_params = omega_init + alpha_init + gamma_init\n",
    "\n",
    "        # Set parameter bounds\n",
    "        omega_bound = [(0.001, None)]\n",
    "        alpha_bound = [(0.001, None)] * self.p\n",
    "        gamma_bound = [(0.001, None)] * (self.p * self.d)\n",
    "        bounds_params = omega_bound + alpha_bound + gamma_bound\n",
    "\n",
    "        result = scipy.optimize.minimize(MLE, init_params, method='SLSQP', bounds=bounds_params)\n",
    "        self.params = self.parse_params(result.x)\n",
    "        return self"
   ]
  },
  {
   "cell_type": "code",
   "execution_count": null,
   "metadata": {},
   "outputs": [],
   "source": [
    "model = DARMAX(p=1)\n",
    "model.fit_normal(Y)"
   ]
  },
  {
   "cell_type": "code",
   "execution_count": 367,
   "metadata": {},
   "outputs": [
    {
     "data": {
      "text/plain": [
       "array([[-22.9, -27.2, -23.6],\n",
       "       [-24.7, -27.3, -20.8],\n",
       "       [-24.5, -23.9, -15.5],\n",
       "       ...,\n",
       "       [-17.8, -18.1, -14.5],\n",
       "       [-16.7, -21.6, -11.9],\n",
       "       [-15.4, -17.5, -14.1]])"
      ]
     },
     "execution_count": 367,
     "metadata": {},
     "output_type": "execute_result"
    }
   ],
   "source": [
    "Y = y_train[20]\n",
    "X = weather_train[20]\n",
    "X = X[:,27:30]\n",
    "\n",
    "T = len(Y)\n",
    "max_lag = 1\n",
    "t = np.arange(start=-1, stop=-(T+1), step=-1)\n",
    "\n",
    "#Y = np.vstack([np.full((max_lag, 1), np.nan), Y])\n",
    "Y = np.vstack((np.full((max_lag, Y.shape[1]), np.nan), Y))\n",
    "X = np.vstack((np.full((max_lag, X.shape[1]), np.nan), X))\n",
    "\n",
    "x = lambda t: X[t,:]\n",
    "y = lambda t: Y[t,:]\n",
    "x(t)"
   ]
  },
  {
   "cell_type": "code",
   "execution_count": 400,
   "metadata": {},
   "outputs": [
    {
     "data": {
      "text/plain": [
       "array([[194.69590985],\n",
       "       [548.07608439],\n",
       "       [725.06053214],\n",
       "       ...,\n",
       "       [316.60280708],\n",
       "       [         nan],\n",
       "       [         nan]])"
      ]
     },
     "execution_count": 400,
     "metadata": {},
     "output_type": "execute_result"
    }
   ],
   "source": [
    "Y = y_train[20]\n",
    "X = weather_train[20]\n",
    "X = X[:,27:30]\n",
    "\n",
    "#T = len(Y)\n",
    "t = np.arange(start=-1, stop=-(len(Y)+1), step=-1)\n",
    "p = 2\n",
    "max_lag = p\n",
    "\n",
    "d = X.shape[1]\n",
    "Y = np.vstack((np.full((max_lag, Y.shape[1]), np.nan), Y))\n",
    "X = np.vstack((np.full((max_lag, X.shape[1]), np.nan), X))\n",
    "\n",
    "#X = None\n",
    "\n",
    "y = lambda t: Y[t,:]\n",
    "x = lambda t: X[t, :] if X is not None else None\n",
    "\n",
    "omega = 2\n",
    "alpha = [1] * p\n",
    "gamma = [[1] * d] * p\n",
    "\n",
    "#sigma = lambda t: np.sqrt(omega\n",
    "#                          + alpha * y(t-1)**2\n",
    "#                          + (0 if X is None else (gamma @ x(t-1).T**2).reshape(-1, 1))\n",
    "#                          )\n",
    "\n",
    "\n",
    "\n",
    "#sigma = lambda t: np.sqrt(omega \n",
    "#                          + sum(alpha[i-1] * y(t-i)**2 for i in range(1, p+1))\n",
    "#                          )\n",
    "\n",
    "sigma = lambda t: np.sqrt(omega \n",
    "                             + sum(alpha[i-1] * y(t-i)**2 for i in range(1, p+1)) \n",
    "                             + (0 if X is None else \n",
    "                               sum((gamma[i-1] @ x(t-i).T**2).reshape(-1, 1) for i in range(1, p+1)))\n",
    ")\n",
    "\n",
    "sigma(t)"
   ]
  },
  {
   "cell_type": "code",
   "execution_count": 396,
   "metadata": {},
   "outputs": [
    {
     "data": {
      "text/plain": [
       "[1, 1, 1]"
      ]
     },
     "execution_count": 396,
     "metadata": {},
     "output_type": "execute_result"
    }
   ],
   "source": [
    "p = 2\n",
    "d = 3\n",
    "gamma = [[1] * d] * p\n",
    "gamma[1]"
   ]
  },
  {
   "cell_type": "code",
   "execution_count": 349,
   "metadata": {},
   "outputs": [
    {
     "name": "stdout",
     "output_type": "stream",
     "text": [
      "1\n",
      "1\n"
     ]
    }
   ],
   "source": [
    "p = 2\n",
    "for i in range(1, p+1):\n",
    "    print(alpha[i-1])\n"
   ]
  },
  {
   "cell_type": "code",
   "execution_count": 361,
   "metadata": {},
   "outputs": [
    {
     "data": {
      "text/plain": [
       "array([[ 10.87236865],\n",
       "       [185.98537284],\n",
       "       [513.10192493],\n",
       "       ...,\n",
       "       [214.23466383],\n",
       "       [229.59435155],\n",
       "       [         nan]])"
      ]
     },
     "execution_count": 361,
     "metadata": {},
     "output_type": "execute_result"
    }
   ],
   "source": [
    "sigma = lambda t: np.sqrt(omega\n",
    "                          + alpha * y(t-1)**2\n",
    "                          + (gamma @ x(t-1).T**2).reshape(-1, 1))\n",
    "\n",
    "sigma = lambda t: np.sqrt(omega\n",
    "                          + alpha * y(t-1)**2\n",
    "                          )\n",
    "sigma(t)"
   ]
  },
  {
   "cell_type": "code",
   "execution_count": null,
   "metadata": {},
   "outputs": [],
   "source": []
  },
  {
   "cell_type": "code",
   "execution_count": null,
   "metadata": {},
   "outputs": [],
   "source": [
    "### Keep for later\n",
    "\n",
    "def cond_mean(self, Y, X=None, params=None):\n",
    "    rho = params[\"rho\"]\n",
    "    phi = params[\"phi\"]\n",
    "    omega = params[\"omega\"]\n",
    "    alpha = params[\"alpha\"]\n",
    "    gamma = params[\"gamma\"]  # Assume gamma is always provided in params\n",
    "\n",
    "    y = self.y(Y)\n",
    "    x = self.x(X) if X is not None else None  # Only compute x if X is provided\n",
    "\n",
    "    sigma = lambda t: np.sqrt(\n",
    "        omega \n",
    "        + sum(alpha[i] * y(t-(i+1))**2 for i in range(self.p))\n",
    "        + (sum(gamma[i] @ (x(t-(i+1))**2).T for i in range(self.p)) if X is not None else 0)\n",
    "    )\n",
    "\n",
    "    beta = lambda t: phi * (y(t) - sum(rho[i] * y(t-(i+1)) for i in range(self.p)) / sigma(t))\n",
    "\n",
    "    cond_mean = lambda t: sum(rho[i] * y(t-(i+1)) for i in range(self.p)) + sigma(t) * beta(t-1)\n",
    "    \n",
    "    return cond_mean"
   ]
  },
  {
   "cell_type": "code",
   "execution_count": null,
   "metadata": {},
   "outputs": [],
   "source": []
  },
  {
   "cell_type": "code",
   "execution_count": null,
   "metadata": {},
   "outputs": [],
   "source": []
  },
  {
   "cell_type": "markdown",
   "metadata": {},
   "source": [
    "## DAR CLASS"
   ]
  },
  {
   "cell_type": "code",
   "execution_count": 25,
   "metadata": {},
   "outputs": [],
   "source": [
    "class DAR:\n",
    "    def __init__(self, p):\n",
    "        \"\"\"\n",
    "        Initialize the DAR class\n",
    "        \"\"\"\n",
    "        self.p = p\n",
    "        self.params = None\n",
    "        self.prams_num = 1 + 2 * self.p\n",
    "        self.loglikelihood_val = None\n",
    "\n",
    "    def t(self, Y):\n",
    "        T = len(Y)\n",
    "        t = np.arange(start=-1, stop=-(T+1), step=-1)\n",
    "        return t\n",
    "\n",
    "    def Y(self, Y):\n",
    "        max_lag = self.p\n",
    "        Y = np.vstack([np.full((max_lag, 1), np.nan), Y.reshape(-1, 1)])\n",
    "        return Y\n",
    "\n",
    "    def y(self, Y):\n",
    "        Y = self.Y(Y)\n",
    "        y = lambda t: Y[t]\n",
    "        return y\n",
    "\n",
    "    def parse_params(self, params):\n",
    "        rho = params[:self.p]\n",
    "        omega = params[self.p]\n",
    "        alpha = params[self.p + 1:self.p + 1 + self.p]\n",
    "        \n",
    "        params_dict = {\n",
    "            \"rho\": rho,\n",
    "            \"omega\": omega,\n",
    "            \"alpha\": alpha,\n",
    "            }\n",
    "        return params_dict\n",
    "\n",
    "    def cond_mean(self, Y, params):\n",
    "        \n",
    "        rho = params[\"rho\"]\n",
    "        \n",
    "        y = self.y(Y)\n",
    "        cond_mean = lambda t: sum(rho[i] * y(t - (i + 1)) for i in range(self.p))\n",
    "        return cond_mean\n",
    "\n",
    "    def cond_var(self, Y, params):\n",
    "        \n",
    "        omega = params[\"omega\"]\n",
    "        alpha = params[\"alpha\"]\n",
    "\n",
    "        y = self.y(Y)\n",
    "        cond_var = lambda t: omega + sum(alpha[i] * y(t - (i + 1))**2 for i in range(self.p))\n",
    "        return cond_var\n",
    "\n",
    "    def fit_normal(self, Y):\n",
    "\n",
    "        t = self.t(Y)\n",
    "        y = self.y(Y)\n",
    "        \n",
    "        def MLE(params):\n",
    "\n",
    "            params = self.parse_params(params)\n",
    "            cond_mean = self.cond_mean(Y, params)\n",
    "            cond_var = self.cond_var(Y, params)\n",
    "\n",
    "            l_t = -1/2 * ( np.log(cond_var(t)) + (y(t) - cond_mean(t))**2 / cond_var(t))\n",
    "            L_t = np.nansum(l_t)\n",
    "            return -L_t\n",
    "\n",
    "        # Initialize parameters\n",
    "        rho_init = [0.0] * self.p\n",
    "        omega_init = [0.05]\n",
    "        alpha_init = [0.5] * self.p\n",
    "        init_params = rho_init + omega_init + alpha_init\n",
    "\n",
    "        # Set parameter bounds\n",
    "        rho_bound = [(None, None)] * self.p\n",
    "        omega_bound = [(0.001, None)]\n",
    "        alpha_bound = [(0.001, None)] * self.p\n",
    "        bounds_params = rho_bound + omega_bound + alpha_bound\n",
    "\n",
    "        result = scipy.optimize.minimize(MLE, init_params, method='SLSQP', bounds=bounds_params)\n",
    "\n",
    "        # store parameters\n",
    "        self.params = self.parse_params(result.x)\n",
    "        return self\n",
    "    \n",
    "    def fit_student(self, Y):\n",
    "\n",
    "        t = self.t(Y)\n",
    "        y = self.y(Y)\n",
    "\n",
    "        def MLE(params):\n",
    "            \n",
    "            nu = params[-1]\n",
    "            params = self.parse_params(params[:-1])\n",
    "\n",
    "            cond_mean = self.cond_mean(Y, params)\n",
    "            cond_var = self.cond_var(Y, params)\n",
    "\n",
    "            # Log-likelihood for Student-t\n",
    "            term1 = -0.5 * np.log(cond_var(t) * (nu - 2) * np.pi)\n",
    "            term2 = gammaln((nu + 1) / 2) - gammaln(nu / 2)\n",
    "            term3 = -((nu + 1) / 2) * np.log(1 + ((y(t) - cond_mean(t)) ** 2) / (cond_var(t) * (nu - 2)))\n",
    "            \n",
    "            l_t = term1 + term2 + term3 \n",
    "            L_t = np.nansum(l_t)\n",
    "            \n",
    "            return -L_t\n",
    "\n",
    "        # Initialize parameters\n",
    "        rho_init = [0.0] * self.p\n",
    "        omega_init = [0.05]\n",
    "        alpha_init = [0.5] * self.p\n",
    "        nu_init = [5]\n",
    "        init_params = rho_init + omega_init + alpha_init + nu_init\n",
    "\n",
    "        # Set parameter bounds\n",
    "        rho_bound = [(None, None)] * self.p\n",
    "        omega_bound = [(0.001, None)]\n",
    "        alpha_bound = [(0.001, None)] * self.p\n",
    "        nu_bound = [(2.0001, None)]\n",
    "        bounds_params = rho_bound + omega_bound + alpha_bound + nu_bound\n",
    "\n",
    "        # Perform optimization\n",
    "        result = scipy.optimize.minimize(MLE, init_params, method='SLSQP', bounds=bounds_params)\n",
    "\n",
    "        # Store parameters\n",
    "        self.params = {**self.parse_params(result.x[:-1]), \"nu\": result.x[-1]}\n",
    "        return self\n",
    "    \n",
    "    def fit(self, Y, dist = \"normal\"):\n",
    "\n",
    "        t = self.t(Y)\n",
    "        y = self.y(Y)\n",
    "\n",
    "        def MLE(params):\n",
    "            \n",
    "            if dist == \"student-t\":\n",
    "                nu = params[-1]\n",
    "                params = self.parse_params(params[:-1])\n",
    "            \n",
    "            else:\n",
    "                params = self.parse_params(params)\n",
    "            \n",
    "            cond_mean = self.cond_mean(Y, params)\n",
    "            cond_var = self.cond_var(Y, params)\n",
    "\n",
    "            if dist == \"normal\":\n",
    "                l_t = -1/2 * (np.log(cond_var(t)) + (y(t) - cond_mean(t))**2 / cond_var(t))\n",
    "            \n",
    "            elif dist == \"student-t\":\n",
    "                term1 = -0.5 * np.log(cond_var(t) * (nu - 2) * np.pi)\n",
    "                term2 = gammaln((nu + 1) / 2) - gammaln(nu / 2)\n",
    "                term3 = -((nu + 1) / 2) * np.log(1 + ((y(t) - cond_mean(t)) ** 2) / (cond_var(t) * (nu - 2)))\n",
    "                l_t = term1 + term2 + term3\n",
    "\n",
    "            else:\n",
    "                raise ValueError(\"dist must be 'normal' or 'student-t'\")\n",
    "            \n",
    "            L_t = np.nansum(l_t)\n",
    "            return -L_t\n",
    "        \n",
    "        # Initialize parameters\n",
    "        rho_init = [0.0] * self.p\n",
    "        omega_init = [0.05]\n",
    "        alpha_init = [0.5] * self.p\n",
    "        init_params = rho_init + omega_init + alpha_init\n",
    "\n",
    "        # Set parameter bounds\n",
    "        rho_bound = [(None, None)] * self.p\n",
    "        omega_bound = [(0.001, None)]\n",
    "        alpha_bound = [(0.001, None)] * self.p\n",
    "        bounds_params = rho_bound + omega_bound + alpha_bound\n",
    "\n",
    "        # studen-t degrees of freedom\n",
    "        nu_init = [5]\n",
    "        nu_bound = [(2.0001, None)]\n",
    "        \n",
    "        if dist == \"student-t\":\n",
    "            init_params += nu_init\n",
    "            bounds_params += nu_bound\n",
    "        \n",
    "        # opminise the loglikelihood function\n",
    "        result = scipy.optimize.minimize(MLE, init_params, method='SLSQP', bounds=bounds_params)\n",
    "        \n",
    "        # store parameters\n",
    "        if dist == \"student-t\":\n",
    "            self.params = {**self.parse_params(result.x[:-1]), \"nu\": result.x[-1]}\n",
    "        else:\n",
    "            self.params = self.parse_params(result.x)\n",
    "\n",
    "        # store loglikelihood value\n",
    "        self.loglikelihood_val = -result.fun\n",
    "        \n",
    "        return self\n",
    "\n",
    "    def std_residuals(self, Y):\n",
    "        t = self.t(Y)\n",
    "        y = self.y(Y)\n",
    "\n",
    "        cond_mean = self.cond_mean(Y, self.params)\n",
    "        cond_var = self.cond_var(Y, self.params)\n",
    "\n",
    "        z = lambda t: (y(t) - cond_mean(t)) / np.sqrt(cond_var(t))\n",
    "        return np.flip(z(t))\n",
    "\n",
    "    def predict(self, Y):\n",
    "        \n",
    "        t = self.t(Y)\n",
    "        cond_mean = self.cond_mean(Y, self.params)\n",
    "        return np.flip(np.append(cond_mean(t+1), np.nan)).reshape(-1,1)\n",
    "    \n",
    "    def CI(self, Y, alpha_level = 0.05, dist = \"normal\"):\n",
    "\n",
    "        t = self.t(Y)\n",
    "        cond_mean = self.cond_mean(Y, self.params)\n",
    "        cond_var = self.cond_var(Y, self.params)\n",
    "\n",
    "        if dist == \"normal\":\n",
    "            z_val = norm.ppf(1 - alpha_level / 2)\n",
    "\n",
    "        elif dist == \"student-t\":\n",
    "            nu = self.params[\"nu\"]\n",
    "            z_val = student_t.ppf(1 - alpha_level / 2, df = nu) * np.sqrt((nu - 2) / nu)\n",
    "        \n",
    "        else:\n",
    "            raise ValueError(\"dist must be 'normal' or 'student-t'\")\n",
    "        \n",
    "\n",
    "        CI = lambda t: np.column_stack((cond_mean(t) + z_val * np.sqrt(cond_var(t)), \n",
    "                                        cond_mean(t) - z_val * np.sqrt(cond_var(t))\n",
    "                                        ))\n",
    "        \n",
    "        return np.vstack((np.full((1, 2), np.nan), np.flip(CI(t+1))))\n"
   ]
  },
  {
   "cell_type": "code",
   "execution_count": 24,
   "metadata": {},
   "outputs": [
    {
     "data": {
      "text/plain": [
       "array([[          nan,           nan],\n",
       "       [-102.04069652,  561.70640309],\n",
       "       [-113.6304263 ,  542.54363765],\n",
       "       ...,\n",
       "       [-135.53223887,  507.88568526],\n",
       "       [-290.63858775,  312.22139363],\n",
       "       [-197.87934156,  419.57360504]])"
      ]
     },
     "execution_count": 24,
     "metadata": {},
     "output_type": "execute_result"
    }
   ],
   "source": [
    "model = DAR(p=3) # init model med p lag-struktur\n",
    "model.fit(Y_train, dist=\"student-t\") # eller fit dist = \"normal\"\n",
    "model.params # parameter estimater\n",
    "model.prams_num # antal parameter i modellen\n",
    "model.loglikelihood_val # loglikelihood værdi fra estimationen\n",
    "model.std_residuals(Y_train) # stadardiserede residualer\n",
    "model.predict(Y_test) # 1-step-ahead predictions\n",
    "model.CI(Y_test) # 95% confidensinterval med forecasted varians\n"
   ]
  },
  {
   "cell_type": "code",
   "execution_count": 730,
   "metadata": {},
   "outputs": [
    {
     "data": {
      "image/png": "[encoded data removed]",
      "text/plain": [
       "<Figure size 640x480 with 1 Axes>"
      ]
     },
     "metadata": {},
     "output_type": "display_data"
    }
   ],
   "source": [
    "x_axis = range(len(fcast))\n",
    "\n",
    "# Confidence interval as a shaded area\n",
    "plt.fill_between(x_axis, CI[:, 0], CI[:, 1], color='grey', alpha=0.2)\n",
    "plt.plot(x_axis, fcast, linestyle='dotted', color='blue')\n",
    "plt.plot(x_axis, np.append(Y_test, np.nan), linestyle='solid', color='black')\n",
    "\n",
    "# Show the plot\n",
    "plt.show()"
   ]
  }
 ],
 "metadata": {
  "kernelspec": {
   "display_name": "dev_env",
   "language": "python",
   "name": "python3"
  },
  "language_info": {
   "codemirror_mode": {
    "name": "ipython",
    "version": 3
   },
   "file_extension": ".py",
   "mimetype": "text/x-python",
   "name": "python",
   "nbconvert_exporter": "python",
   "pygments_lexer": "ipython3",
   "version": "3.9.18"
  }
 },
 "nbformat": 4,
 "nbformat_minor": 2
}
