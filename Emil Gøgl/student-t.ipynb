{
 "cells": [
  {
   "cell_type": "code",
   "execution_count": 3,
   "metadata": {},
   "outputs": [
    {
     "name": "stdout",
     "output_type": "stream",
     "text": [
      "v = 6: E[|z_t|] = 0.7500000000000001\n"
     ]
    }
   ],
   "source": [
    "import scipy.integrate as integrate\n",
    "import scipy.special as sp\n",
    "import numpy as np\n",
    "\n"
   ]
  },
  {
   "cell_type": "code",
   "execution_count": null,
   "metadata": {},
   "outputs": [],
   "source": []
  },
  {
   "cell_type": "code",
   "execution_count": null,
   "metadata": {},
   "outputs": [],
   "source": [
    "def expected_absolute_value(v):\n",
    "    \"\"\"\n",
    "    Computes E[|z_t|] for the scaled Student-t distribution as a function of v.\n",
    "    :param v: Degrees of freedom for the Student-t distribution.\n",
    "    :return: Expected absolute value E[|z_t|].\n",
    "    \"\"\"\n",
    "    if v <= 2:\n",
    "        raise ValueError(\"The degrees of freedom (v) must be greater than 2 for E[|z_t|] to converge.\")\n",
    "    \n",
    "    # Define the scaled Student-t density\n",
    "    def pdf(x, v):\n",
    "        return (sp.gamma((v + 1) / 2) /\n",
    "                (sp.gamma(v / 2) * np.sqrt((v - 2) * np.pi))) * \\\n",
    "               (1 + x**2 / (v - 2)) ** (-(v + 1) / 2)\n",
    "    \n",
    "    # Integrate the absolute value of x times the density from 0 to infinity\n",
    "    def integrand(x):\n",
    "        return x * pdf(x, v)\n",
    "    \n",
    "    result, _ = integrate.quad(integrand, 0, np.inf)\n",
    "    \n",
    "    return 2 * result  # Multiply by 2 because of symmetry\n",
    "\n"
   ]
  },
  {
   "cell_type": "code",
   "execution_count": null,
   "metadata": {},
   "outputs": [],
   "source": [
    "# Example: Compute for a range of degrees of freedom\n",
    "degrees_of_freedom = [6]\n",
    "results = {v: expected_absolute_value(v) for v in degrees_of_freedom}\n",
    "\n",
    "# Print results\n",
    "for v, value in results.items():\n",
    "    print(f\"v = {v}: E[|z_t|] = {value}\")\n"
   ]
  },
  {
   "cell_type": "code",
   "execution_count": 14,
   "metadata": {},
   "outputs": [],
   "source": [
    "v_array = np.linspace(2.2, 3, 10)\n",
    "\n"
   ]
  },
  {
   "cell_type": "code",
   "execution_count": 19,
   "metadata": {},
   "outputs": [
    {
     "data": {
      "text/plain": [
       "0.0009999993069236795"
      ]
     },
     "execution_count": 19,
     "metadata": {},
     "output_type": "execute_result"
    }
   ],
   "source": [
    "expected_absolute_value(2.000001)"
   ]
  }
 ],
 "metadata": {
  "kernelspec": {
   "display_name": "dev_env",
   "language": "python",
   "name": "python3"
  },
  "language_info": {
   "codemirror_mode": {
    "name": "ipython",
    "version": 3
   },
   "file_extension": ".py",
   "mimetype": "text/x-python",
   "name": "python",
   "nbconvert_exporter": "python",
   "pygments_lexer": "ipython3",
   "version": "3.9.18"
  }
 },
 "nbformat": 4,
 "nbformat_minor": 2
}
