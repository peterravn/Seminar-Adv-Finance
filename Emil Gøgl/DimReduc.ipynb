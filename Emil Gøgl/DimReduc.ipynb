{
 "cells": [
  {
   "cell_type": "code",
   "execution_count": 9,
   "metadata": {},
   "outputs": [],
   "source": [
    "from sklearn.decomposition import PCA\n",
    "import numpy as np\n",
    "import pandas as pd\n",
    "import matplotlib.pyplot as plt"
   ]
  },
  {
   "cell_type": "code",
   "execution_count": 2,
   "metadata": {},
   "outputs": [],
   "source": [
    "# Load each\n",
    "datasets = {}\n",
    "for hour in range(24):\n",
    "    datasets[hour] = pd.read_csv(f\"Splits/dataset_hour_{hour}.csv\")\n",
    "\n",
    "datasets_train = {hour: datasets[hour][(datasets[hour]['DATE'] >= '2014-01-01') & (datasets[hour]['DATE'] < '2023-01-01')].drop(['DATE'], axis=1).to_numpy() for hour in range(24)}\n",
    "datasets_test = {hour: datasets[hour][datasets[hour]['DATE'] >= '2023-01-01'].drop(['DATE'], axis=1).to_numpy() for hour in range(24)}\n",
    "\n",
    "y_train = {hour: datasets_train[hour][:, 0].reshape(-1, 1) for hour in range(24)}\n",
    "y_test = {hour: datasets_test[hour][:, 0].reshape(-1, 1) for hour in range(24)}\n",
    "\n",
    "weather_train = {hour: datasets_train[hour][:, 1:-1] for hour in range(24)}\n",
    "weather_test = {hour: datasets_test[hour][:, 1:-1] for hour in range(24)}\n",
    "\n"
   ]
  },
  {
   "cell_type": "code",
   "execution_count": 3,
   "metadata": {},
   "outputs": [],
   "source": [
    "X = weather_train[0]"
   ]
  },
  {
   "cell_type": "code",
   "execution_count": null,
   "metadata": {},
   "outputs": [],
   "source": []
  },
  {
   "cell_type": "code",
   "execution_count": 5,
   "metadata": {},
   "outputs": [],
   "source": [
    "def PCA_dimreduc(training_data, test_data, exp_var_pct):\n",
    "\n",
    "    # Compute mean (bias) of training data\n",
    "    PCA_bias = np.mean(training_data, axis=0)\n",
    "\n",
    "    # Find number of loadings mathcing the level of explained variance\n",
    "    pca = PCA()\n",
    "    pca.fit(training_data)\n",
    "    components = pca.components_\n",
    "    eigvals_i = (pca.singular_values_) ** 2 # eigenvalues equals the squared singular values\n",
    "    explained_variance_cumsum = np.array(list(enumerate((np.cumsum(eigvals_i) / np.sum(eigvals_i)), start=1))) # computing cummulative explained variancec with correct index\n",
    "    K_loadings = min(np.where(explained_variance_cumsum[:,1] >= exp_var_pct)[0]) + 1 # number of components to explain X pct. variance\n",
    "\n",
    "    # Extract first K principal components (PCA loadings) necessary to match the chosen level of explained variance\n",
    "    PCA_loadings = components[0:K_loadings, :].T\n",
    "\n",
    "    # Compute dimensinality reduced data by projecting the centered test_data onto the first K principal components\n",
    "    data_dimreduc = (test_data - PCA_bias) @ PCA_loadings\n",
    "\n",
    "    return data_dimreduc, PCA_loadings, PCA_bias, K_loadings, explained_variance_cumsum"
   ]
  },
  {
   "cell_type": "code",
   "execution_count": 12,
   "metadata": {},
   "outputs": [
    {
     "data": {
      "text/plain": [
       "[<matplotlib.lines.Line2D at 0x168a29a00>]"
      ]
     },
     "execution_count": 12,
     "metadata": {},
     "output_type": "execute_result"
    },
    {
     "data": {
      "image/png": "[encoded data removed]",
      "text/plain": [
       "<Figure size 640x480 with 1 Axes>"
      ]
     },
     "metadata": {},
     "output_type": "display_data"
    }
   ],
   "source": [
    "class DimReduc:\n",
    "    def __init__(self, pct):\n",
    "\n",
    "        self.pct = pct\n",
    "        self.k = None\n",
    "        self.Z = None\n",
    "        self.plot_var = None\n",
    "    \n",
    "    def fit(self, X):\n",
    "        pca = PCA().fit(X)\n",
    "        components = pca.components_\n",
    "        eigvals_i = (pca.singular_values_) ** 2\n",
    "        explained_var = np.array(list(enumerate((np.cumsum(eigvals_i) / np.sum(eigvals_i)), start=1)))\n",
    "        \n",
    "        \n",
    "        k = min(np.where(explained_var[:,1] >= self.pct)[0]) + 1\n",
    "        self.k = k\n",
    "        self.plot_var = explained_var\n",
    "        \n",
    "\n",
    "\n",
    "test = DimReduc(pct = 0.85)\n",
    "test.fit(X)\n",
    "\n",
    "plot = test.plot_var\n",
    "\n",
    "plt.plot(plot[:,0], plot[:,1])\n"
   ]
  },
  {
   "cell_type": "code",
   "execution_count": 62,
   "metadata": {},
   "outputs": [
    {
     "data": {
      "text/plain": [
       "array([[ 1,  1],\n",
       "       [ 2,  2],\n",
       "       [ 3,  3],\n",
       "       [ 4,  4],\n",
       "       [ 5,  5],\n",
       "       [ 6,  6],\n",
       "       [ 7,  7],\n",
       "       [ 8,  8],\n",
       "       [ 9,  9],\n",
       "       [10, 10],\n",
       "       [11, 11],\n",
       "       [12, 12]])"
      ]
     },
     "execution_count": 62,
     "metadata": {},
     "output_type": "execute_result"
    }
   ],
   "source": [
    "test1 = np.arange(1, k + 1)\n",
    "test2 = np.array([test1, test1]).T\n",
    "test2"
   ]
  },
  {
   "cell_type": "code",
   "execution_count": null,
   "metadata": {},
   "outputs": [],
   "source": []
  }
 ],
 "metadata": {
  "kernelspec": {
   "display_name": "dev_env",
   "language": "python",
   "name": "python3"
  },
  "language_info": {
   "codemirror_mode": {
    "name": "ipython",
    "version": 3
   },
   "file_extension": ".py",
   "mimetype": "text/x-python",
   "name": "python",
   "nbconvert_exporter": "python",
   "pygments_lexer": "ipython3",
   "version": "3.9.18"
  }
 },
 "nbformat": 4,
 "nbformat_minor": 2
}
